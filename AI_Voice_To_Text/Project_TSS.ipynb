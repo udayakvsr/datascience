{
 "cells": [
  {
   "cell_type": "code",
   "execution_count": null,
   "id": "be08baf3",
   "metadata": {},
   "outputs": [],
   "source": [
    "                          ### TEXT-TO-SPEECH RECOGNITION ###"
   ]
  },
  {
   "cell_type": "code",
   "execution_count": 2,
   "id": "0333a6ad",
   "metadata": {},
   "outputs": [
    {
     "name": "stdout",
     "output_type": "stream",
     "text": [
      "Requirement already satisfied: pyttsx3 in c:\\programdata\\anaconda3\\lib\\site-packages (2.90)\n",
      "Requirement already satisfied: comtypes in c:\\programdata\\anaconda3\\lib\\site-packages (from pyttsx3) (1.1.10)\n",
      "Requirement already satisfied: pypiwin32 in c:\\programdata\\anaconda3\\lib\\site-packages (from pyttsx3) (223)\n",
      "Requirement already satisfied: pywin32 in c:\\programdata\\anaconda3\\lib\\site-packages (from pyttsx3) (228)\n",
      "Note: you may need to restart the kernel to use updated packages.\n"
     ]
    }
   ],
   "source": [
    "pip install pyttsx3 "
   ]
  },
  {
   "cell_type": "code",
   "execution_count": 3,
   "id": "0c66cb31",
   "metadata": {},
   "outputs": [
    {
     "name": "stdout",
     "output_type": "stream",
     "text": [
      "Requirement already satisfied: SpeechRecognition in c:\\programdata\\anaconda3\\lib\\site-packages (3.8.1)Note: you may need to restart the kernel to use updated packages.\n",
      "\n"
     ]
    }
   ],
   "source": [
    "pip install SpeechRecognition"
   ]
  },
  {
   "cell_type": "code",
   "execution_count": 4,
   "id": "63ef1223",
   "metadata": {},
   "outputs": [
    {
     "name": "stdout",
     "output_type": "stream",
     "text": [
      "Requirement already satisfied: pyaudio in c:\\programdata\\anaconda3\\lib\\site-packages (0.2.12)\n",
      "Note: you may need to restart the kernel to use updated packages.\n"
     ]
    }
   ],
   "source": [
    "pip install pyaudio"
   ]
  },
  {
   "cell_type": "code",
   "execution_count": 2,
   "id": "c7ef29b1",
   "metadata": {},
   "outputs": [
    {
     "name": "stdout",
     "output_type": "stream",
     "text": [
      "Please Enter the gender voice (0 is Male and 1 is Female)\n",
      "0\n",
      "Please Enter the Rate of speech \n",
      "10\n",
      "Please Enter the volume level between 0 & 1\n",
      "1\n",
      "Please Enter the text to speech\n",
      "Reddy\n"
     ]
    }
   ],
   "source": [
    "import pyttsx3                       #importing the pyttsx3 library\n",
    "from datetime import datetime        #importing the datetime library\n",
    "int_eng = pyttsx3.init()             # initialization pyttsx3\n",
    "print(\"Please Enter the gender voice (0 is Male and 1 is Female)\")\n",
    "tone = int(input())   #Checking tone input \n",
    "print(\"Please Enter the Rate of speech \")\n",
    "rate = int(input())   #Checking rate input \n",
    "print(\"Please Enter the volume level between 0 & 1\")\n",
    "volume = int(input()) #Checking volume input \n",
    "print(\"Please Enter the text to speech\")\n",
    "txt_ln = input() \n",
    "sph_speed = int_eng.getProperty('rate')   # checking details of current speaking rate\n",
    "#print (sph_speed)                        #printing default voice rate\n",
    "int_eng.setProperty('rate', rate)     # declaring new voice rate by taking it from input\n",
    "dfl_vlm = int_eng.getProperty('volume')   # checking the default volume level (min=0 & max=1)\n",
    "#print (dfl_vlm)                          #printing default volume level\n",
    "int_eng.setProperty('volume',volume)    # declaring new volume level between 0 & 1\n",
    "gender_voice = int_eng.getProperty('voices')       #printing details of current voice\n",
    "int_eng.setProperty('voice', gender_voice[tone].id)   #changing index dynamically to change the voices.\n",
    "\n",
    "#Actual voice playing and file saving steps\n",
    "\n",
    "int_eng.say(txt_ln) #It will play the given word\n",
    "int_eng.runAndWait() #execution engine will run and wait until it complete the above lines \n",
    "int_eng.stop() #execution engine will stop\n",
    "int_eng.save_to_file(txt_ln, \"Final_audio.mp3\") # saves the above lines in mp3 format\n",
    "int_eng.runAndWait() #execution engine will run and wait until it complete the saving the above mp3"
   ]
  },
  {
   "cell_type": "code",
   "execution_count": 14,
   "id": "790f9680",
   "metadata": {},
   "outputs": [],
   "source": [
    "                            ### SPEECH-TO-TEXT RECOGNITION FROM LIVE SPEECH###"
   ]
  },
  {
   "cell_type": "code",
   "execution_count": 4,
   "id": "d0ffa2ff",
   "metadata": {},
   "outputs": [
    {
     "name": "stdout",
     "output_type": "stream",
     "text": [
      "Please start speaking\n",
      "Thanks for your time.\n",
      "Me: hello how are you doing\n"
     ]
    }
   ],
   "source": [
    " #will clear all variables#\n",
    "%reset -f \n",
    "  \n",
    "import speech_recognition as spcrec #importing the speech_recognition library\n",
    "rgz = spcrec.Recognizer() #declaring the Recognizer\n",
    "\n",
    "#Logic to check convert SPEECH-TO-TEXT from live speech with exception handling\n",
    "with spcrec.Microphone() as feed:\n",
    "    try:\n",
    "        print(\"Please start speaking\")\n",
    "        feed_text = rgz.listen(feed)\n",
    "        print(\"Thanks for your time.\")\n",
    "        voice_txt = rgz.recognize_google(feed_text)\n",
    "        print('Me:',voice_txt)\n",
    "    except:\n",
    "        print(\"I apologize, but I didn't get you\")"
   ]
  },
  {
   "cell_type": "code",
   "execution_count": null,
   "id": "8c6da260",
   "metadata": {},
   "outputs": [],
   "source": [
    "                           ### SPEECH-TO-TEXT RECOGNITION FROM AUDIO FILE###"
   ]
  },
  {
   "cell_type": "code",
   "execution_count": 48,
   "id": "ff6f54b0",
   "metadata": {},
   "outputs": [],
   "source": [
    "import speech_recognition as spcrec #importing the speech_recognition library\n",
    "rgz = spcrec.Recognizer() #declaring the Recognizer\n",
    "\n",
    "#Function to check convert SPEECH-TO-TEXT with exception handling\n",
    "def spchtotxt(speech_type,File_nm =\"Final_audio.mp3\"):\n",
    "    try:\n",
    "        if speech_type == 'AUDIO':\n",
    "            with spcrec.AudioFile(File_nm) as feed:\n",
    "                feed_text = rgz.listen(feed)\n",
    "                final_text = rgz.recognize_google(feed_text)\n",
    "                print('**********Transcribing audio files into text***************')\n",
    "                print(final_text)\n",
    "    except:\n",
    "        print(\"I apologize, but I didn't get data\") "
   ]
  },
  {
   "cell_type": "code",
   "execution_count": 49,
   "id": "1e543486",
   "metadata": {},
   "outputs": [
    {
     "name": "stdout",
     "output_type": "stream",
     "text": [
      "**********Transcribing audio files into text***************\n",
      "Hi how are you\n"
     ]
    }
   ],
   "source": [
    "spchtotxt(\"AUDIO\")"
   ]
  }
 ],
 "metadata": {
  "kernelspec": {
   "display_name": "Python 3 (ipykernel)",
   "language": "python",
   "name": "python3"
  },
  "language_info": {
   "codemirror_mode": {
    "name": "ipython",
    "version": 3
   },
   "file_extension": ".py",
   "mimetype": "text/x-python",
   "name": "python",
   "nbconvert_exporter": "python",
   "pygments_lexer": "ipython3",
   "version": "3.9.7"
  }
 },
 "nbformat": 4,
 "nbformat_minor": 5
}
