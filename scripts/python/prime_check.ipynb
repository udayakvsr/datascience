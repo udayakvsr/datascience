{
 "cells": [
  {
   "cell_type": "code",
   "execution_count": 5,
   "id": "b74660b7",
   "metadata": {},
   "outputs": [
    {
     "name": "stdout",
     "output_type": "stream",
     "text": [
      "Enter any number: 7\n",
      "7 is a prime number\n"
     ]
    }
   ],
   "source": [
    "#ID-1012604-Week 4 Assignment\n",
    "#-----------------------------\n",
    "\n",
    "#Function to check whether the given number is prime or not\n",
    "def prmchk(number):\n",
    "    #According to the prime number, it is always greater than 1.\n",
    "    if number > 1:\n",
    "        #Checking the loop from 2 whether the number is divisible by current iteration\n",
    "        for i in range(2, number):\n",
    "            if (number % i) == 0:\n",
    "                # If the above condition is success then the number is not a prime number\n",
    "                print(number, \"is not a prime number\")  \n",
    "                # If it is not a prime number it will check numbers with which that input number is divisible by.\n",
    "                for i in range(1,number+1):\n",
    "                    #Checking whether the number is divisible by current iteration number and will break the loop\n",
    "                    if (number % i) == 0: \n",
    "                        print(number,\"is a divisible\",i )\n",
    "                break        \n",
    "        else:\n",
    "            #If the given number does not meet the above requirement, it will be written as a prime number.\n",
    "            print(number, \"is a prime number\")\n",
    "    else:\n",
    "        #If the given number is less than or equal to 1 then it will written as not a prime number.\n",
    "        print(number, \"is not a prime number\")\n",
    "# Added try except to capture the error if any junk value entered\n",
    "try:\n",
    "    #Taking input at run time and converting input to int \n",
    "    iput = int(input(\"Enter any number: \")) \n",
    "    #Passing the input to the prime check function\n",
    "    prmchk(iput)    \n",
    "except:\n",
    "# If user entered invalid number \n",
    "    print(\"Please enter valid Number\")    "
   ]
  }
 ],
 "metadata": {
  "kernelspec": {
   "display_name": "Python 3 (ipykernel)",
   "language": "python",
   "name": "python3"
  },
  "language_info": {
   "codemirror_mode": {
    "name": "ipython",
    "version": 3
   },
   "file_extension": ".py",
   "mimetype": "text/x-python",
   "name": "python",
   "nbconvert_exporter": "python",
   "pygments_lexer": "ipython3",
   "version": "3.9.7"
  }
 },
 "nbformat": 4,
 "nbformat_minor": 5
}
