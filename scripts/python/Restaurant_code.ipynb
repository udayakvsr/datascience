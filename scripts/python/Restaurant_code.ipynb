{
 "cells": [
  {
   "cell_type": "code",
   "execution_count": 1,
   "metadata": {},
   "outputs": [],
   "source": [
    "#1\n",
    "class Restaurant:\n",
    "    def __init__(self, name, cuisine, address):\n",
    "        self.name = name\n",
    "        self.cuisine = cuisine\n",
    "        self.address = address\n"
   ]
  },
  {
   "cell_type": "code",
   "execution_count": 6,
   "metadata": {},
   "outputs": [],
   "source": [
    "#2\n",
    "class Restaurant:\n",
    "    def __init__(self, name, cuisine, address):\n",
    "        self.name = name\n",
    "        self.cuisine = cuisine\n",
    "        self.address = address\n",
    "    \n",
    "    def __str__(self):\n",
    "        return \"This is a restaurant named {} serving {} dishes located at {}\".format(self.name, self.cuisine, self.address)\n"
   ]
  },
  {
   "cell_type": "code",
   "execution_count": 7,
   "metadata": {},
   "outputs": [
    {
     "name": "stdout",
     "output_type": "stream",
     "text": [
      "This is a restaurant named Satis Bistro serving European dishes located at 212 Washington St, Jersey City, NJ 07311\n"
     ]
    }
   ],
   "source": [
    "#3\n",
    "jersey_city = Restaurant(\"Satis Bistro\", \"European\", \"212 Washington St, Jersey City, NJ 07311\")\n",
    "print(jersey_city)\n"
   ]
  },
  {
   "cell_type": "code",
   "execution_count": 11,
   "metadata": {},
   "outputs": [],
   "source": [
    "#4\n",
    "class FastFood(Restaurant):\n",
    "    def __init__(self, name, cuisine, address, drive_thru):\n",
    "        super().__init__(name, cuisine, address)\n",
    "        self.drive_thru = drive_thru\n",
    "\n",
    "    def __str__(self):\n",
    "        drive_thru_chk = \"drive-thru\" if self.drive_thru else \"Not drive-thru\"\n",
    "        return \"This is a fast food restaurant named {} serving {} dishes located at {} {}\".format(\n",
    "            self.name, self.cuisine, self.address, drive_thru_chk)\n"
   ]
  },
  {
   "cell_type": "code",
   "execution_count": 12,
   "metadata": {},
   "outputs": [
    {
     "name": "stdout",
     "output_type": "stream",
     "text": [
      "This is a fast food restaurant named Starbucks serving Coffee dishes located at 2641 John F. Kennedy Blvd, Jersey City, NJ 07306 drive-thru\n"
     ]
    }
   ],
   "source": [
    "#5\n",
    "starbucks = FastFood(\"Starbucks\", \"Coffee\", \"2641 John F. Kennedy Blvd, Jersey City, NJ 07306\", True)\n",
    "print(starbucks)\n"
   ]
  }
 ],
 "metadata": {
  "kernelspec": {
   "display_name": "Python 3.10.2 32-bit",
   "language": "python",
   "name": "python3"
  },
  "language_info": {
   "codemirror_mode": {
    "name": "ipython",
    "version": 3
   },
   "file_extension": ".py",
   "mimetype": "text/x-python",
   "name": "python",
   "nbconvert_exporter": "python",
   "pygments_lexer": "ipython3",
   "version": "3.10.2"
  },
  "orig_nbformat": 4,
  "vscode": {
   "interpreter": {
    "hash": "17999a8378a35389798968e93db08ea75eb5d1a70e903bcba9755769bbb8bc7a"
   }
  }
 },
 "nbformat": 4,
 "nbformat_minor": 2
}
