{
 "cells": [
  {
   "cell_type": "code",
   "execution_count": null,
   "id": "ca9f32ec-6dd9-4eb6-98dd-07b659fa3cf8",
   "metadata": {},
   "outputs": [],
   "source": [
    "# https://www.statology.org/pandas-groupby-plot/ \n",
    "# https://www.tutorialspoint.com/matplotlib/index.htm\n",
    "# https://www.geeksforgeeks.org/python-seaborn-tutorial/?ref=lbp\n",
    "# https://www.w3schools.com/python/matplotlib_intro.asp"
   ]
  },
  {
   "cell_type": "code",
   "execution_count": null,
   "id": "bb06f0c3-2fcf-4187-b41b-6bde7e982496",
   "metadata": {},
   "outputs": [],
   "source": [
    "# A sample of Project1"
   ]
  },
  {
   "cell_type": "code",
   "execution_count": null,
   "id": "ed0db385-06ca-4260-8094-396923d3bb9d",
   "metadata": {},
   "outputs": [],
   "source": []
  },
  {
   "cell_type": "code",
   "execution_count": null,
   "id": "54853f63-0fc5-4a9c-a4f3-4695b5d1423b",
   "metadata": {},
   "outputs": [],
   "source": [
    "# importing the required library\n",
    "import pandas as pd\n",
    "from matplotlib import pyplot as plt\n",
    "import seaborn as sns"
   ]
  },
  {
   "cell_type": "code",
   "execution_count": null,
   "id": "c27d90ed-bb6a-4a0c-a60c-038285909c76",
   "metadata": {},
   "outputs": [],
   "source": [
    "# Data Preparation"
   ]
  },
  {
   "cell_type": "code",
   "execution_count": null,
   "id": "255017b3-2771-4f37-b3a6-e2174bcf93a9",
   "metadata": {},
   "outputs": [],
   "source": [
    "# Reading in the file, make sure file is in same directory as this python notebook\n",
    "df = pd.read_csv(\"Film_Permits.csv\")\n",
    "df.head()"
   ]
  },
  {
   "cell_type": "code",
   "execution_count": null,
   "id": "e71ee723-4ab3-42eb-8407-fa42e2d5f863",
   "metadata": {},
   "outputs": [],
   "source": [
    "df.columns"
   ]
  },
  {
   "cell_type": "code",
   "execution_count": null,
   "id": "71d331b5-0240-472c-bc10-62719fd2411a",
   "metadata": {},
   "outputs": [],
   "source": [
    "# Only acccessing needed columns and making it accordingly to data requirements"
   ]
  },
  {
   "cell_type": "code",
   "execution_count": null,
   "id": "b14b4feb-b510-4c87-9a72-fd8a63d9aacd",
   "metadata": {},
   "outputs": [],
   "source": [
    "# Setting up index for my dataframe\n",
    "df.index = df[\"EventID\"]"
   ]
  },
  {
   "cell_type": "code",
   "execution_count": null,
   "id": "92eb1a20-2c89-4dce-8c9f-27c3eca7ba6c",
   "metadata": {},
   "outputs": [],
   "source": [
    "df = df[['EventType', 'StartDateTime', 'EndDateTime', 'EnteredOn', 'Borough', 'Category', 'SubCategoryName']]\n",
    "df"
   ]
  },
  {
   "cell_type": "code",
   "execution_count": null,
   "id": "7d9774d8-ea5e-451f-bb36-f390b0301fec",
   "metadata": {},
   "outputs": [],
   "source": [
    "# This is how to convert object datatype to datetime in pandas, if you need to do same you can review it here\n",
    "# I am doing it because i am going to do some calculations later between this calculations\n",
    "# https://www.geeksforgeeks.org/python-pandas-to_datetime/\n",
    "df[\"StartDateTime\"] = pd.to_datetime(df[\"StartDateTime\"])\n",
    "df[\"EndDateTime\"] = pd.to_datetime(df[\"EndDateTime\"])\n",
    "df[\"EnteredOn\"] = pd.to_datetime(df[\"EnteredOn\"])\n",
    "df.head()"
   ]
  },
  {
   "cell_type": "code",
   "execution_count": null,
   "id": "d5757a5b-ab8f-4cf9-84b1-89b81de7d6cf",
   "metadata": {},
   "outputs": [],
   "source": [
    "# Since I don't have numeric datatype column in my dataset, I am going to create two columns\n",
    "# I think duration of event can be something useful to look into so i will create that column\n",
    "# Also, How much time between filed and event start can also be a good calculation to look into\n",
    "df[\"EventDuration\"] = df[\"EndDateTime\"] - df[\"StartDateTime\"]\n",
    "df[\"ApplicationTimeDiff\"] = df[\"StartDateTime\"] - df[\"EnteredOn\"]\n",
    "df.head()"
   ]
  },
  {
   "cell_type": "code",
   "execution_count": null,
   "id": "46125ca5-50b7-425a-a821-7a31a21b56f2",
   "metadata": {},
   "outputs": [],
   "source": [
    "df.head()"
   ]
  },
  {
   "cell_type": "code",
   "execution_count": null,
   "id": "dd70f8a9-1cad-4430-99dc-11f2410559d0",
   "metadata": {},
   "outputs": [],
   "source": [
    "# This is how you get unique values in columns\n",
    "df[\"EventType\"].unique()"
   ]
  },
  {
   "cell_type": "code",
   "execution_count": null,
   "id": "57a54183-3d22-4274-bf14-d7bf1bcbacc5",
   "metadata": {},
   "outputs": [],
   "source": [
    "# Counting Category and SubCategory Observations in the data\n",
    "df[[\"Category\",\"SubCategoryName\"]].value_counts()"
   ]
  },
  {
   "cell_type": "code",
   "execution_count": null,
   "id": "2ccc09d7-04c5-4d27-897b-f0edfccf14ef",
   "metadata": {},
   "outputs": [],
   "source": [
    "df[\"SubCategoryName\"].unique()"
   ]
  },
  {
   "cell_type": "code",
   "execution_count": null,
   "id": "e7ac1890-a075-4cf6-989b-ec6d1edcd22c",
   "metadata": {},
   "outputs": [],
   "source": [
    "# Looking on descriptive stat you can do count and mean differently or use describe function on a column"
   ]
  },
  {
   "cell_type": "code",
   "execution_count": null,
   "id": "64291d2e-4175-4625-815f-0fe26ff74324",
   "metadata": {},
   "outputs": [],
   "source": [
    "df[[\"EventDuration\",\"ApplicationTimeDiff\"]].describe()"
   ]
  },
  {
   "cell_type": "code",
   "execution_count": null,
   "id": "809bdc42-19c3-4e4c-948e-cbab6121df5f",
   "metadata": {},
   "outputs": [],
   "source": [
    "df.groupby(\"Borough\")[\n",
    "       \"Borough\"].count()"
   ]
  },
  {
   "cell_type": "code",
   "execution_count": null,
   "id": "f42c133a-174f-491a-8c8b-f3e0d068aad2",
   "metadata": {},
   "outputs": [],
   "source": [
    "df.groupby(\"Borough\")[[\"EventDuration\",\n",
    "                       \"ApplicationTimeDiff\"]].mean()"
   ]
  },
  {
   "cell_type": "code",
   "execution_count": null,
   "id": "733686a3-85b3-4af6-ae5d-d6bb2159636b",
   "metadata": {},
   "outputs": [],
   "source": [
    "# Pandas has inbuilt plot functionality, which uses matplotlib library so you can call plot commands or\n",
    "# use matplotlib by self"
   ]
  },
  {
   "cell_type": "code",
   "execution_count": null,
   "id": "11ead882-09e7-4cb1-9c3e-f06b8d9667c3",
   "metadata": {},
   "outputs": [],
   "source": [
    "brough_count = df.groupby(\"Borough\")[\"Borough\"].count()\n",
    "brough_count.plot.pie(autopct='%.2f%%', title=\"MOME Applications by Borough\") \n",
    "# The proportionate percentage is displayed inside the \n",
    "# respective wedge with the help of autopct parameter "
   ]
  },
  {
   "cell_type": "code",
   "execution_count": null,
   "id": "a7541028-5a65-4dad-af64-3ae2b1a53d4d",
   "metadata": {},
   "outputs": [],
   "source": []
  },
  {
   "cell_type": "code",
   "execution_count": null,
   "id": "01bfce24-fee0-4dcb-bea9-b374762049a5",
   "metadata": {},
   "outputs": [],
   "source": [
    "borough_eventype_grp = df.groupby([\"Borough\",\"EventType\"])[\"EventDuration\"].count().reset_index()\n",
    "# This is count of EventDuration\n",
    "borough_eventype_grp "
   ]
  },
  {
   "cell_type": "code",
   "execution_count": null,
   "id": "09a85d56-e491-4bfc-8f07-f22c69138be9",
   "metadata": {},
   "outputs": [],
   "source": [
    "# Creating a bar chart for count of application by Borough by Event Type\n",
    "sns.barplot(x = \"Borough\",y=\"EventDuration\",hue=\"EventType\",data=borough_eventype_grp, )\n",
    "plt.show()\n",
    "# This graph is not so good as it doesn't add up any conclusion\n",
    "# So we will skip this one"
   ]
  },
  {
   "cell_type": "code",
   "execution_count": null,
   "id": "b0babb70-66f5-4eab-bc3c-3dd2c29025b8",
   "metadata": {},
   "outputs": [],
   "source": []
  },
  {
   "cell_type": "code",
   "execution_count": null,
   "id": "1a153aae-8c4b-41f6-81ba-596711669fef",
   "metadata": {},
   "outputs": [],
   "source": [
    "# This is how to convert from time column to a int column(int is microseconds of time)\n",
    "df.groupby([\"Borough\",\"Category\"])[\"EventDuration\"].mean().astype(int)"
   ]
  },
  {
   "cell_type": "code",
   "execution_count": null,
   "id": "a784ce9d-2730-4b3b-b19b-024d6262a387",
   "metadata": {},
   "outputs": [],
   "source": [
    "# Lets try with Category and Borough\n",
    "# Creating a bar chart for mean event duration of application by Borough by Category\n",
    "borough_category_grp = df.groupby([\"Borough\",\"Category\"])[\"EventDuration\"].count().reset_index()\n",
    "borough_category_grp_chart = sns.barplot(x = \"Category\",y=\"EventDuration\",hue=\"Borough\",\n",
    "                                        data=borough_category_grp,)\n",
    "borough_category_grp_chart.set_xticklabels( borough_category_grp_chart.get_xticklabels(), \n",
    "                                        rotation=75, horizontalalignment='right')\n",
    "plt.show()\n"
   ]
  },
  {
   "cell_type": "code",
   "execution_count": null,
   "id": "e83c20ec-2c65-4b24-ba75-b18473af6872",
   "metadata": {},
   "outputs": [],
   "source": [
    "# Same chart with different command"
   ]
  },
  {
   "cell_type": "code",
   "execution_count": null,
   "id": "85788eda-171b-4dae-9fec-a8f8789846bd",
   "metadata": {},
   "outputs": [],
   "source": [
    "fig = sns.countplot(x = \"Category\",hue=\"Borough\", data=df)\n",
    "fig.set_xticklabels( fig.get_xticklabels(), rotation=75, horizontalalignment='right')\n",
    "fig.set(title=\"Application over Category by Borough\")\n",
    "plt.show()"
   ]
  },
  {
   "cell_type": "code",
   "execution_count": null,
   "id": "66258006-8f7b-4e7f-adfa-da9374ca43b7",
   "metadata": {},
   "outputs": [],
   "source": []
  },
  {
   "cell_type": "code",
   "execution_count": null,
   "id": "f2d4fb5c-cd2e-4996-94dd-7b88a53cd4d4",
   "metadata": {},
   "outputs": [],
   "source": []
  },
  {
   "cell_type": "code",
   "execution_count": null,
   "id": "966fcb3e-ab8c-466b-9a0d-ccae5e3bf909",
   "metadata": {},
   "outputs": [],
   "source": [
    "# Lets try with Category and Borough\n",
    "# Creating a bar chart for mean event duration of application by Borough by Category\n",
    "category_sub_grp = df.groupby([\"Category\",\"SubCategoryName\"])[\"EventDuration\"].mean().astype(int).reset_index()\n",
    "category_sub_grp_chart = sns.barplot(x = \"Category\",y=\"EventDuration\",hue=\"SubCategoryName\",\n",
    "                                        data=category_sub_grp,)\n",
    "category_sub_grp_chart.set_xticklabels( category_sub_grp_chart.get_xticklabels(), \n",
    "                                        rotation=75, horizontalalignment='right')\n",
    "plt.show()\n",
    "# This is bad chart so we gonna skip this as this chart doesn't help us "
   ]
  },
  {
   "cell_type": "code",
   "execution_count": null,
   "id": "7107072b-0807-41f4-a8ec-8c73193ab8bf",
   "metadata": {},
   "outputs": [],
   "source": []
  },
  {
   "cell_type": "code",
   "execution_count": null,
   "id": "6f65c3e1-3188-4c69-8cf2-c6c75a0b254a",
   "metadata": {},
   "outputs": [],
   "source": [
    "# Lets create Pie Chart for Category to see which category has most applications, this time we will create without pd.plot\n",
    "cnt_category = df.groupby([\"Category\"]).size()\n",
    "plt.pie(cnt_category, labels=cnt_category.index,autopct='%.2f%%',)\n",
    "plt.title(\"MOME Applications by Categories\")\n",
    "plt.show()"
   ]
  },
  {
   "cell_type": "code",
   "execution_count": null,
   "id": "534dc27b-8d83-41c9-8be2-37bc9db3d209",
   "metadata": {},
   "outputs": [],
   "source": [
    "# Let's try to look at average EventDuration and Application Time Diff by Category\n",
    "df.groupby([\"Category\"])[[\"EventDuration\", \"ApplicationTimeDiff\"\n",
    "        ]].mean().sort_values(by=[\"EventDuration\",\"ApplicationTimeDiff\"])"
   ]
  },
  {
   "cell_type": "code",
   "execution_count": null,
   "id": "55ebde4b-d9b1-4c16-9042-021d2f62938c",
   "metadata": {},
   "outputs": [],
   "source": []
  },
  {
   "cell_type": "code",
   "execution_count": null,
   "id": "7fbd0103-6789-49fc-a388-5cc19be06052",
   "metadata": {},
   "outputs": [],
   "source": []
  },
  {
   "cell_type": "code",
   "execution_count": null,
   "id": "82b2b5dc-e3c8-4a4e-97cf-418dc25c842b",
   "metadata": {},
   "outputs": [],
   "source": [
    "# Checking normality of numerical data in set with histogram chart\n",
    "# Since my data doesn't have numeric column I am going to convert EventDuration to int for this calculation\n",
    "# SInce my int column is going to be very big I am going to normalize that column by dividing it with 3600000000 to \n",
    "# convert back in hours and round up to 4 decimal points\n",
    "plt.hist((df[\"EventDuration\"].astype(int)))\n",
    "plt.show()"
   ]
  },
  {
   "cell_type": "code",
   "execution_count": null,
   "id": "d5edfd53-7dc9-4a6d-a474-c76a0b43818f",
   "metadata": {},
   "outputs": [],
   "source": [
    "# I am going to filter data here as Some Event Duration might be problematic\n",
    "df[\"EventDuration\"].describe()"
   ]
  },
  {
   "cell_type": "code",
   "execution_count": null,
   "id": "62138187-cf1a-4376-ac03-1b8d93ef597b",
   "metadata": {},
   "outputs": [],
   "source": [
    "# So I will filter my data here by Upper limt of 95% Confidence Interval,\n",
    "# You can also filter by mean+- 3 std_dv, which covers 97% of confidence interval, \n",
    "# I am doing 95% confidence interval which is +-2 std_dv\n",
    "# We know boolean Indexing works in pandas so just using to access original dataframe\n",
    "upper_interval = df[\"EventDuration\"].mean() + df[\"EventDuration\"].std()*2\n",
    "filter_df = df[df[\"EventDuration\"]<upper_interval].copy()\n",
    "filter_df.head()"
   ]
  },
  {
   "cell_type": "code",
   "execution_count": null,
   "id": "5458d389-426b-44e2-9648-112f9bfa7410",
   "metadata": {},
   "outputs": [],
   "source": [
    "# To chaeck normality of data, I will creat a histogram chart here\n",
    "filter_df[\"EventDuration\"].astype(int).plot.hist(bins=100,\n",
    "                                            title=\"Event Duration Histogram(MicroSeconds)\")"
   ]
  },
  {
   "cell_type": "code",
   "execution_count": null,
   "id": "f623e259-4141-454c-bd86-83c342c92372",
   "metadata": {},
   "outputs": [],
   "source": [
    "filter_df[\"ApplicationTimeDiff\"].astype(int).plot.hist(bins=1000,\n",
    "                                    title=\"Application Histogram(MicroSeconds)\")"
   ]
  },
  {
   "cell_type": "code",
   "execution_count": null,
   "id": "eb3b1d25-74ea-47e6-9d49-be3c3cb1aa84",
   "metadata": {},
   "outputs": [],
   "source": []
  },
  {
   "cell_type": "code",
   "execution_count": null,
   "id": "24df4afc-c83e-431a-9d4f-042d02dc5b1e",
   "metadata": {},
   "outputs": [],
   "source": [
    "# Scatter Plot using seaborn to check relation between ApplicationTimeDiff and EventDuration"
   ]
  },
  {
   "cell_type": "code",
   "execution_count": null,
   "id": "c4217f35-37df-443d-99c8-9e3ba5291761",
   "metadata": {},
   "outputs": [],
   "source": [
    "sns.scatterplot(x=filter_df[\"EventDuration\"].astype(int)/3600000000000,\n",
    "            y= filter_df[\"ApplicationTimeDiff\"].astype(int)/3600000000000,\n",
    "            hue=filter_df[\"Borough\"])\n",
    "plt.show() # In Hours"
   ]
  },
  {
   "cell_type": "code",
   "execution_count": null,
   "id": "0fcfcb34-2af5-4d61-9779-9e8117b9449e",
   "metadata": {},
   "outputs": [],
   "source": []
  },
  {
   "cell_type": "code",
   "execution_count": null,
   "id": "acca5c89-3db7-4752-8b9d-35349b46cb70",
   "metadata": {},
   "outputs": [],
   "source": []
  }
 ],
 "metadata": {
  "kernelspec": {
   "display_name": "Python 3 (ipykernel)",
   "language": "python",
   "name": "python3"
  },
  "language_info": {
   "codemirror_mode": {
    "name": "ipython",
    "version": 3
   },
   "file_extension": ".py",
   "mimetype": "text/x-python",
   "name": "python",
   "nbconvert_exporter": "python",
   "pygments_lexer": "ipython3",
   "version": "3.8.13"
  }
 },
 "nbformat": 4,
 "nbformat_minor": 5
}
