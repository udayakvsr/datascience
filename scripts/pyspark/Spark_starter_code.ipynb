{
 "cells": [
  {
   "cell_type": "markdown",
   "metadata": {
    "application/vnd.databricks.v1+cell": {
     "cellMetadata": {
      "byteLimit": 2048000,
      "rowLimit": 10000
     },
     "inputWidgets": {},
     "nuid": "4cada25b-2e40-4ad5-8191-b12dd27ce61a",
     "showTitle": false,
     "title": ""
    }
   },
   "source": [
    "# DS-610 Week 2 Homework: MapReduce on Apache Spark\n",
    "This week we will start with a primer on MapReduce and how it can be implemented on Apache Spark.\n",
    "\n",
    "Our data file is located at: /dbfs/dbfs/FileStore/shared_uploads/dlee5@saintpeters.edu/ds610/pg11.txt\n",
    "\n",
    "If working locally, make sure to download `pg11.txt` file from the Blackboard website. We will need to change the source file location accordingly below.\n",
    "\n",
    "This file contains the text *Alice’s Adventures in Wonderland*, by Lewis Carroll. We will run our introductory WordCount example on this text.\n",
    "The following cell should load the text from the Databricks directory (please do not modify)."
   ]
  },
  {
   "cell_type": "markdown",
   "metadata": {
    "application/vnd.databricks.v1+cell": {
     "cellMetadata": {
      "byteLimit": 2048000,
      "rowLimit": 10000
     },
     "inputWidgets": {},
     "nuid": "59b16144-0bb8-4201-a8ee-bb145a8c3db3",
     "showTitle": false,
     "title": ""
    }
   },
   "source": [
    "**Getting the current Spark Context.** \"A Spark Context represents the connection to a Spark cluster, and can be used to create RDDs, accumulators and broadcast variables on that cluster.\" (from https://learn.microsoft.com/en-us/dotnet/api/microsoft.spark.sparkcontext?view=spark-dotnet) The following code sets up the current Spark Context."
   ]
  },
  {
   "cell_type": "code",
   "execution_count": 0,
   "metadata": {
    "application/vnd.databricks.v1+cell": {
     "cellMetadata": {
      "byteLimit": 2048000,
      "rowLimit": 10000
     },
     "inputWidgets": {},
     "nuid": "3c0df87e-2465-4525-85f7-e8b1ebb0845e",
     "showTitle": false,
     "title": ""
    }
   },
   "outputs": [
    {
     "output_type": "stream",
     "name": "stdout",
     "output_type": "stream",
     "text": [
      "3.10.12\n"
     ]
    }
   ],
   "source": [
    "from platform import python_version\n",
    "print(python_version())\n",
    "from pyspark.context import SparkContext\n",
    "sc = SparkContext.getOrCreate()"
   ]
  },
  {
   "cell_type": "markdown",
   "metadata": {
    "application/vnd.databricks.v1+cell": {
     "cellMetadata": {
      "byteLimit": 2048000,
      "rowLimit": 10000
     },
     "inputWidgets": {},
     "nuid": "cb79a3bb-ea2d-46f4-a937-d148339ad4d6",
     "showTitle": false,
     "title": ""
    }
   },
   "source": [
    "**Loading the data file.** Let us create an RDD from the file."
   ]
  },
  {
   "cell_type": "code",
   "execution_count": 0,
   "metadata": {
    "application/vnd.databricks.v1+cell": {
     "cellMetadata": {
      "byteLimit": 2048000,
      "rowLimit": 10000
     },
     "inputWidgets": {},
     "nuid": "d7ba9f6e-bbd1-4243-8130-7d7a0b45961c",
     "showTitle": false,
     "title": ""
    }
   },
   "outputs": [
    {
     "output_type": "stream",
     "name": "stdout",
     "output_type": "stream",
     "text": [
      "Loaded the data file with 2 partitions...\n"
     ]
    }
   ],
   "source": [
    "# If you are running on Saint Peters' University Databricks Environment, use the following line:\n",
    "rdd = sc.textFile(\"dbfs:/FileStore/shared_uploads/dlee5@saintpeters.edu/ds610/pg11.txt\")\n",
    "\n",
    "# If you are running locally, download the dataset from the Blackboard and put it into the same folder as this\n",
    "# notebook, and uncomment the following line.\n",
    "#rdd = sc.textFile(\"pg11.txt\")\n",
    "\n",
    "print('Loaded the data file with %d partitions...' % rdd.getNumPartitions())"
   ]
  },
  {
   "cell_type": "markdown",
   "metadata": {
    "application/vnd.databricks.v1+cell": {
     "cellMetadata": {
      "byteLimit": 2048000,
      "rowLimit": 10000
     },
     "inputWidgets": {},
     "nuid": "a9f70253-4862-4ba0-871b-d7c8556e6ea7",
     "showTitle": false,
     "title": ""
    }
   },
   "source": [
    "## Part 1\n",
    "See if we can view the first five rows of the file. We will have to use the *take* method.\n",
    "\n",
    "https://spark.apache.org/docs/latest/api/python/reference/api/pyspark.RDD.take.html"
   ]
  },
  {
   "cell_type": "code",
   "execution_count": 0,
   "metadata": {
    "application/vnd.databricks.v1+cell": {
     "cellMetadata": {
      "byteLimit": 2048000,
      "rowLimit": 10000
     },
     "inputWidgets": {},
     "nuid": "7ab8b9fc-2803-48be-96f3-8db75e05b00a",
     "showTitle": false,
     "title": ""
    }
   },
   "outputs": [
    {
     "output_type": "execute_result",
     "data": {
      "text/plain": [
       "['The Project Gutenberg eBook of Alice’s Adventures in Wonderland, by Lewis Carroll',\n",
       " '',\n",
       " 'This eBook is for the use of anyone anywhere in the United States and',\n",
       " 'most other parts of the world at no cost and with almost no restrictions',\n",
       " 'whatsoever. You may copy it, give it away or re-use it under the terms']"
      ]
     },
     "execution_count": 54,
     "metadata": {},
     "output_type": "execute_result"
    }
   ],
   "source": [
    "# The solution for Part 1 goes here.\n",
    "rdd.take(5)"
   ]
  },
  {
   "cell_type": "markdown",
   "metadata": {
    "application/vnd.databricks.v1+cell": {
     "cellMetadata": {
      "byteLimit": 2048000,
      "rowLimit": 10000
     },
     "inputWidgets": {},
     "nuid": "3cef4ada-dca2-4151-a4b8-de5ba1f8e825",
     "showTitle": false,
     "title": ""
    }
   },
   "source": [
    "## Part 2\n",
    "Next we will tokenize each RDD record into a list of words separated by a space \" \". Each word also needs to be turned into a lower case. Set the result to the variable called `rdd2`. Then finally take the first five rows from `rdd2'.\n",
    "\n",
    "For Part 2 we will utilize the `flatMap` function and *lambda* function syntax. For documentation:\n",
    "https://spark.apache.org/docs/latest/api/python/reference/api/pyspark.RDD.flatMap.html\n",
    "\n",
    "Note that we are using the `flatMap` instead of `map`."
   ]
  },
  {
   "cell_type": "code",
   "execution_count": 0,
   "metadata": {
    "application/vnd.databricks.v1+cell": {
     "cellMetadata": {
      "byteLimit": 2048000,
      "rowLimit": 10000
     },
     "inputWidgets": {},
     "nuid": "9d403ef0-25eb-4254-b099-f2987fd068c6",
     "showTitle": false,
     "title": ""
    }
   },
   "outputs": [
    {
     "output_type": "execute_result",
     "data": {
      "text/plain": [
       "['the', 'project', 'gutenberg', 'ebook', 'of']"
      ]
     },
     "execution_count": 55,
     "metadata": {},
     "output_type": "execute_result"
    }
   ],
   "source": [
    "# The solution for Part 2 goes here.\n",
    "rdd2 = rdd.flatMap(lambda record: record.lower().split())\n",
    "first_five_rec = rdd2.take(5)\n",
    "first_five_rec"
   ]
  },
  {
   "cell_type": "markdown",
   "metadata": {
    "application/vnd.databricks.v1+cell": {
     "cellMetadata": {
      "byteLimit": 2048000,
      "rowLimit": 10000
     },
     "inputWidgets": {},
     "nuid": "89340b43-ae13-48d3-b7bd-46ac717e9bfa",
     "showTitle": false,
     "title": ""
    }
   },
   "source": [
    "## Part 3\n",
    "Apply a filter to exclude tokens that are among the stop word list. Again, the *lambda* function syntax may be useful.\n",
    "\n",
    "For the stop word list, we may be able to use a manually constructed list such as `['','a','*','and','is','of','the','a']` or one from a package such as WordCloud's stop word list.\n",
    "\n",
    "The documentation for the function is here:\n",
    "https://spark.apache.org/docs/3.1.3/api/python/reference/api/pyspark.RDD.filter.html"
   ]
  },
  {
   "cell_type": "code",
   "execution_count": 0,
   "metadata": {
    "application/vnd.databricks.v1+cell": {
     "cellMetadata": {
      "byteLimit": 2048000,
      "rowLimit": 10000
     },
     "inputWidgets": {},
     "nuid": "c2c3cf88-1cba-42ac-b424-8d4301ac818b",
     "showTitle": false,
     "title": ""
    }
   },
   "outputs": [
    {
     "output_type": "execute_result",
     "data": {
      "text/plain": [
       "['project', 'gutenberg', 'ebook', 'alice’s', 'adventures']"
      ]
     },
     "execution_count": 56,
     "metadata": {},
     "output_type": "execute_result"
    }
   ],
   "source": [
    "# The solution for Part 3 goes here.\n",
    "STOPWORDS = ['','a','*','and','is','of','the','a']\n",
    "\n",
    "rdd2 = rdd.flatMap(lambda rec: rec.lower().split()).filter(lambda wrd: wrd not in STOPWORDS)\n",
    "rdd2.take(5)"
   ]
  },
  {
   "cell_type": "markdown",
   "metadata": {
    "application/vnd.databricks.v1+cell": {
     "cellMetadata": {
      "byteLimit": 2048000,
      "rowLimit": 10000
     },
     "inputWidgets": {},
     "nuid": "7a00d176-ccea-4be9-ba2d-026674ae7a36",
     "showTitle": false,
     "title": ""
    }
   },
   "source": [
    "## Part 4\n",
    "Now we need to convert the `rdd2` which is an RDD into a type called a paired RDD. Each RDD is a token word `w` and needs to be mapped to a pair of the form `(w, 1)`. In a paired RDD, the first item in the tuple will serve as the key and the second item as the value. For example, the word `record` will map to `(record, 1)`.\n",
    "\n",
    "For documentation: https://spark.apache.org/docs/latest/api/python/reference/api/pyspark.RDD.map.html\n",
    "\n",
    "Set the resulting paired RDD to a variable called `rdd3`."
   ]
  },
  {
   "cell_type": "code",
   "execution_count": 0,
   "metadata": {
    "application/vnd.databricks.v1+cell": {
     "cellMetadata": {
      "byteLimit": 2048000,
      "rowLimit": 10000
     },
     "inputWidgets": {},
     "nuid": "49a6de80-3da3-4112-942f-dcbcb0852907",
     "showTitle": false,
     "title": ""
    }
   },
   "outputs": [
    {
     "output_type": "execute_result",
     "data": {
      "text/plain": [
       "[('project', 1),\n",
       " ('gutenberg', 1),\n",
       " ('ebook', 1),\n",
       " ('alice’s', 1),\n",
       " ('adventures', 1)]"
      ]
     },
     "execution_count": 57,
     "metadata": {},
     "output_type": "execute_result"
    }
   ],
   "source": [
    "# The solution for Part 4 goes here.\n",
    "rdd3 = rdd2.map(lambda x: (x, 1))\n",
    "rdd3.take(5)"
   ]
  },
  {
   "cell_type": "markdown",
   "metadata": {
    "application/vnd.databricks.v1+cell": {
     "cellMetadata": {
      "byteLimit": 2048000,
      "rowLimit": 10000
     },
     "inputWidgets": {},
     "nuid": "419ed880-f62f-4d76-b6af-4c0e9a21c69f",
     "showTitle": false,
     "title": ""
    }
   },
   "source": [
    "## Part 5\n",
    "Now let us count how many word tokens we have in our MapReduce job. For documentation:\n",
    "https://spark.apache.org/docs/latest/api/python/reference/api/pyspark.RDD.count.html"
   ]
  },
  {
   "cell_type": "code",
   "execution_count": 0,
   "metadata": {
    "application/vnd.databricks.v1+cell": {
     "cellMetadata": {
      "byteLimit": 2048000,
      "rowLimit": 10000
     },
     "inputWidgets": {},
     "nuid": "484b45ec-8399-401d-afdc-583b1d9bba09",
     "showTitle": false,
     "title": ""
    }
   },
   "outputs": [
    {
     "output_type": "execute_result",
     "data": {
      "text/plain": [
       "25517"
      ]
     },
     "execution_count": 58,
     "metadata": {},
     "output_type": "execute_result"
    }
   ],
   "source": [
    "# The solution for Part 5 goes here.\n",
    "rdd3.count()"
   ]
  },
  {
   "cell_type": "markdown",
   "metadata": {
    "application/vnd.databricks.v1+cell": {
     "cellMetadata": {
      "byteLimit": 2048000,
      "rowLimit": 10000
     },
     "inputWidgets": {},
     "nuid": "648d4dcf-f876-4c2f-8d51-5b2162bd406e",
     "showTitle": false,
     "title": ""
    }
   },
   "source": [
    "## Part 6\n",
    "Finally let us perform the reduction so that we have `(key, value)` where `key` is a word and `value` is the total number of words. For this we will utilize the following function:\n",
    "https://spark.apache.org/docs/latest/api/python/reference/api/pyspark.RDD.reduceByKey.html\n",
    "\n",
    "Set the result of the reduction to the variable called `rdd4`. Note that `rdd4` is another paired RDD."
   ]
  },
  {
   "cell_type": "code",
   "execution_count": 0,
   "metadata": {
    "application/vnd.databricks.v1+cell": {
     "cellMetadata": {
      "byteLimit": 2048000,
      "rowLimit": 10000
     },
     "inputWidgets": {},
     "nuid": "05a4def2-f74e-4636-bbaa-015a7b00afa9",
     "showTitle": false,
     "title": ""
    }
   },
   "outputs": [
    {
     "output_type": "execute_result",
     "data": {
      "text/plain": [
       "[('project', 83),\n",
       " ('gutenberg', 25),\n",
       " ('ebook', 8),\n",
       " ('adventures', 8),\n",
       " ('in', 415)]"
      ]
     },
     "execution_count": 59,
     "metadata": {},
     "output_type": "execute_result"
    }
   ],
   "source": [
    "# The solution for Part 6 goes here.\n",
    "from operator import add\n",
    "\n",
    "rdd4 = rdd3.reduceByKey(add)\n",
    "\n",
    "rdd4.take(5)"
   ]
  },
  {
   "cell_type": "markdown",
   "metadata": {
    "application/vnd.databricks.v1+cell": {
     "cellMetadata": {
      "byteLimit": 2048000,
      "rowLimit": 10000
     },
     "inputWidgets": {},
     "nuid": "e52b3c6c-23bb-4921-ac21-d0599f09d7af",
     "showTitle": false,
     "title": ""
    }
   },
   "source": [
    "## Part 7\n",
    "Sort the variable `rdd4` by the value in *descending order*. We will need to use the following:\n",
    "https://spark.apache.org/docs/latest/api/python/reference/api/pyspark.RDD.sortBy.html\n",
    "\n",
    "Afterwards call `collect` method to collect the RDD items into a single Python list onto the driver node. Set the result to the Python variable `sorted_word_count_list`."
   ]
  },
  {
   "cell_type": "code",
   "execution_count": 0,
   "metadata": {
    "application/vnd.databricks.v1+cell": {
     "cellMetadata": {
      "byteLimit": 2048000,
      "rowLimit": 10000
     },
     "inputWidgets": {},
     "nuid": "e483016b-59b0-4a44-9f69-43df96d1651b",
     "showTitle": false,
     "title": ""
    }
   },
   "outputs": [
    {
     "output_type": "stream",
     "name": "stdout",
     "output_type": "stream",
     "text": [
      "[('to', 784), ('she', 518), ('said', 420), ('in', 415), ('it', 374), ('you', 330), ('was', 330), ('as', 258), ('i', 249), ('that', 230), ('alice', 221), ('with', 217), ('at', 217), ('her', 207), ('had', 176), ('all', 172), ('for', 161), ('be', 157), ('on', 152), ('this', 148), ('or', 143), ('not', 131), ('so', 127), ('very', 127), ('little', 120), ('but', 120), ('“i', 119), ('they', 119), ('he', 110), ('out', 98), ('his', 94), ('if', 93), ('about', 92), ('what', 90), ('by', 83), ('up', 83), ('project', 83), ('were', 82), ('have', 80), ('went', 79), ('one', 79), ('down', 79), ('no', 76), ('alice,', 76), ('like', 75), ('when', 74), ('any', 71), ('would', 71), ('do', 68), ('into', 67), ('there', 65), ('could', 64), ('thought', 63), ('your', 62), ('an', 61), ('its', 60), ('are', 60), ('then', 59), ('who', 58), ('mock', 57), ('my', 56), ('“and', 55), ('gutenberg-tm', 54), ('alice.', 54), ('quite', 53), ('don’t', 52), ('see', 51), ('did', 50), ('some', 50), ('their', 50), ('how', 50), ('them', 49), ('just', 48), ('must', 48), ('from', 47), ('time', 47), ('which', 47), ('such', 46), ('began', 46), ('me', 46), ('only', 46), ('know', 46), ('got', 45), ('looked', 45), ('get', 43), ('other', 43), ('much', 41), ('it,', 41), ('off', 40), ('herself', 40), ('“you', 40), ('after', 40), ('work', 40), ('great', 39), ('go', 39), ('more', 39), ('way', 39), ('“but', 38), ('never', 38), ('came', 38), ('can', 37), ('been', 36), ('will', 36), ('think', 36), ('“what', 35), ('thing', 35), ('say', 35), ('queen', 35), ('i’m', 35), ('turtle', 33), ('without', 32), ('long', 32), ('large', 32), ('march', 31), ('found', 31), ('herself,', 31), ('over', 31), ('again,', 31), ('put', 31), ('rabbit', 31), ('it’s', 31), ('first', 30), ('round', 30), ('looking', 30), ('“it', 29), ('should', 29), ('back', 29), ('made', 29), ('heard', 29), ('tell', 29), ('head', 29), ('make', 29), ('white', 28), ('on,', 28), ('upon', 28), ('king', 28), ('use', 28), ('well', 27), ('might', 27), ('electronic', 27), ('can’t', 27), ('may', 27), ('seemed', 27), ('said,', 26), ('going', 26), ('come', 26), ('than', 26), ('last', 26), ('poor', 26), ('you,', 25), ('rather', 25), ('now', 25), ('we', 25), ('look', 25), ('gutenberg', 25), ('hatter', 24), ('soon', 24), ('shall', 24), ('right', 24), ('chapter', 24), ('i’ll', 23), ('“it’s', 23), ('him', 23), ('works', 23), ('terms', 23), ('dormouse', 23), ('three', 23), ('took', 23), ('good', 23), ('felt', 23), ('before', 23), ('wish', 22), ('next', 22), ('same', 22), ('under', 22), ('nothing', 22), ('gryphon', 22), ('set', 22), ('“if', 21), ('won’t', 21), ('half', 21), ('moment', 21), ('another', 21), ('while', 21), ('too', 21), ('getting', 21), ('things', 21), ('them,', 21), ('two', 21), ('find', 20), ('however,', 20), ('“well,', 20), ('“the', 20), ('i’ve', 20), ('even', 20), ('added', 20), ('mouse', 20), ('being', 19), ('here', 19), ('and,', 19), ('“oh,', 19), ('“i’m', 19), ('once', 19), ('till', 19), ('take', 19), ('full', 19), ('copyright', 19), ('voice', 18), ('cried', 18), ('eyes', 18), ('it,”', 18), ('her,', 18), ('tried', 18), ('sort', 17), ('this,', 17), ('queen,', 17), ('“how', 17), ('away', 17), ('you’re', 17), ('sat', 17), ('again.', 16), ('doesn’t', 16), ('eat', 16), ('hare', 16), ('these', 16), ('ever', 16), ('curious', 16), ('is,', 16), ('turned', 16), ('tone,', 16), ('there’s', 16), ('anything', 16), ('alice;', 16), ('sure', 16), ('door', 15), ('“that’s', 15), ('voice,', 15), ('called', 15), ('minute', 15), ('duchess', 15), ('alice’s', 15), ('where', 15), ('it.', 15), ('king,', 15), ('gave', 15), ('hear', 15), ('wonder', 15), ('cat', 15), ('both', 15), ('gryphon.', 15), ('used', 15), ('united', 15), ('through', 14), ('off,', 14), ('many', 14), ('was,', 14), ('down,', 14), ('old', 14), ('words', 14), ('that’s', 14), ('replied', 14), ('donations', 14), ('near', 14), ('idea', 14), ('end', 14), ('something', 14), ('gryphon,', 14), ('saw', 13), ('her.', 13), ('people', 13), ('still', 13), ('_i_', 13), ('knew', 13), ('left', 13), ('whole', 13), ('“i’ve', 13), ('because', 13), ('most', 13), ('grow', 13), ('foundation', 13), ('literary', 13), ('let', 13), ('again', 13), ('hatter.', 13), ('kept', 13), ('ought', 13), ('out,', 13), ('anxiously', 13), ('ran', 13), ('give', 13), ('am', 13), ('_very_', 13), ('“that', 13), ('archive', 13), ('beginning', 12), ('“of', 12), ('among', 12), ('our', 12), ('remember', 12), ('turning', 12), ('behind', 12), ('hardly', 12), ('side', 12), ('makes', 12), ('nearly', 12), ('every', 12), ('king.', 12), ('license', 12), ('caterpillar', 12), ('close', 12), ('always', 12), ('talking', 12), ('seen', 12), ('perhaps', 12), ('wouldn’t', 12), ('try', 12), ('caterpillar.', 12), ('better', 11), ('please', 11), ('course', 11), ('those', 11), ('see,', 11), ('feet', 11), ('hand', 11), ('hurried', 11), ('whether', 11), ('it?”', 11), ('“we', 11), ('first,', 11), ('glad', 11), ('wasn’t', 11), ('agree', 11), ('day', 11), ('states', 11), ('mouse,', 11), ('hare.', 11), ('deal', 11), ('before,', 11), ('“then', 11), ('trying', 11), ('help', 11), ('queen.', 11), ('“not', 11), ('“a', 11), ('read', 11), ('didn’t', 11), ('paragraph', 11), ('saying', 11), ('hatter,', 10), ('having', 10), ('they’re', 10), ('up,', 10), ('talk', 10), ('enough', 10), ('done', 10), ('thinking', 10), ('few', 10), ('keep', 10), ('access', 10), ('small', 10), ('walked', 10), ('two,', 10), ('everything', 10), ('against', 10), ('voice.', 10), ('sitting', 10), ('us', 10), ('suddenly', 10), ('want', 9), ('(she', 9), ('couldn’t', 9), ('afraid', 9), ('tone.', 9), ('waited', 9), ('dear!', 9), ('gone', 9), ('written', 9), ('that,”', 9), ('“come,', 9), ('turtle.', 9), ('not,', 9), ('queer', 9), ('has', 9), ('it;', 9), ('why,', 9), ('including', 9), ('laws', 9), ('door,', 9), ('house,', 9), ('“no,', 9), ('“they', 9), ('“why', 9), ('name', 9), ('“why,', 9), ('rest', 9), ('own', 9), ('shouted', 9), ('yet', 9), ('it.”', 9), ('opportunity', 9), ('it:', 9), ('far', 9), ('really', 9), ('change', 9), ('join', 9), ('know.”', 9), ('opened', 9), ('jury', 9), ('shook', 9), ('agreement', 9), ('cats', 9), ('dodo', 9), ('you’d', 8), ('on.', 8), ('followed', 8), ('notice', 8), ('beautiful', 8), ('_is_', 8), ('cook', 8), ('heads', 8), ('know.', 8), ('lying', 8), ('“off', 8), ('play', 8), ('running', 8), ('each', 8), ('itself', 8), ('repeated', 8), ('hard', 8), ('party', 8), ('else', 8), ('herself.', 8), ('reason', 8), ('word', 8), ('except', 8), ('number', 8), ('asked', 8), ('know,”', 8), ('top', 8), ('explain', 8), ('bit', 8), ('pool', 8), ('copy', 8), ('forth', 8), ('almost', 8), ('table', 8), ('fan', 8), ('“there’s', 8), ('but,', 8), ('queen’s', 8), ('“yes,', 8), ('soldiers', 8), ('rabbit,', 8), ('asked.', 8), ('waiting', 8), ('feel', 8), ('speak', 8), ('matter', 8), ('duchess,', 8), ('tone', 8), ('new', 8), ('world', 8), ('turtle,', 8), ('believe', 8), ('“do', 8), ('adventures', 8), ('certainly', 8), ('suppose', 8), ('room', 8), ('making', 8), ('“in', 8), ('using', 8), ('ebook', 8), ('work,', 8), ('fee', 8), ('do,', 8), ('house', 8), ('place', 7), ('time,', 7), ('least', 7), ('again!”', 7), ('noticed', 7), ('golden', 7), ('now,', 7), ('face', 7), ('majesty,”', 7), ('so,', 7), ('wondering', 7), ('alice:', 7), ('begin', 7), ('to,', 7), ('seem', 7), ('arm', 7), ('pepper', 7), ('“he', 7), ('it!”', 7), ('mad', 7), ('_you_', 7), ('know,', 7), ('offended', 7), ('way,', 7), ('“for', 7), ('beg', 7), ('hadn’t', 7), ('finished', 7), ('haven’t', 7), ('grown', 7), ('could,', 7), ('you?”', 7), ('associated', 7), ('u.s.', 7), ('copies', 7), ('section', 7), ('located', 7), ('either', 7), ('marked', 7), ('hold', 7), ('information', 7), ('tired', 7), ('it’ll', 7), ('dry', 7), ('bottle', 7), ('“so', 7), ('ask', 7), ('me,”', 7), ('though', 7), ('bright', 7), ('stood', 7), ('that!”', 7), ('_your_', 7), ('low', 7), ('round,', 7), ('knave', 7), ('question', 7), ('mouth', 7), ('frightened', 7), ('live', 7), ('head!”', 7), ('cat,', 7), ('turn', 7), ('“as', 7), ('why', 7), ('ready', 7), ('one,', 7), ('leave', 7), ('best', 7), ('continued', 7), ('i’d', 7), ('mean', 7), ('birds', 7), ('meaning', 7), ('writing', 7), ('hastily', 7), ('minutes', 7), ('goes', 7), ('free', 7), ('refund', 7), ('changed', 7), ('footman', 7), ('on!”', 6), ('dormouse,', 6), ('answer', 6), ('fell', 6), ('manage', 6), ('growing', 6), ('begun', 6), ('hands', 6), ('hand,', 6), ('“who', 6), ('everybody', 6), ('“are', 6), ('“come', 6), ('sentence', 6), ('game', 6), ('dreadfully', 6), ('feeling', 6), ('“don’t', 6), ('spoke.', 6), ('between', 6), ('dear', 6), ('forgotten', 6), ('“you’re', 6), ('dear,', 6), ('moral', 6), ('sharp', 6), ('_that_', 6), ('isn’t', 6), ('slowly', 6), ('that?”', 6), ('“there', 6), ('trembling', 6), ('received', 6), ('times', 6), ('second', 6), ('general', 6), ('distribute', 6), ('permission', 6), ('distributing', 6), ('trademark', 6), ('agreement,', 6), ('inches', 6), ('oh,', 6), ('cat.', 6), ('baby', 6), ('thing!”', 6), ('indeed!”', 6), ('hatter:', 6), ('watch', 6), ('fall', 6), ('surprised', 6), ('then,', 6), ('low,', 6), ('feet,', 6), ('neck', 6), ('about,', 6), ('then,”', 6), ('cheshire', 6), ('thought,', 6), ('began,', 6), ('not,”', 6), ('exactly', 6), ('kind', 6), ('you,”', 6), ('here,', 6), ('course,', 6), ('creatures', 6), ('lobster', 6), ('tears', 6), ('told', 6), ('person', 6), ('repeat', 6), ('“or', 6), ('melancholy', 6), ('size', 6), ('open', 6), ('charge', 6), ('distribution', 6), ('comply', 6), ('paid', 6), ('state', 6), ('provide', 6), ('days', 6), ('tax', 6), ('foundation,', 6), ('oh', 6), ('four', 6), ('pigeon', 6), ('‘i', 6), ('interrupted', 5), ('spoke,', 5), ('eyes,', 5), ('drew', 5), ('shouldn’t', 5), ('piece', 5), ('trees', 5), ('hall,', 5), ('time,”', 5), ('taking', 5), ('foot', 5), ('say,', 5), ('across', 5), ('along', 5), ('them!”', 5), ('arm,', 5), ('him,', 5), ('jumped', 5), ('walking', 5), ('_would_', 5), ('puzzled', 5), ('generally', 5), ('remarked.', 5), ('moment,', 5), ('“i’ll', 5), ('fetch', 5), ('much,”', 5), ('(it', 5), ('“when', 5), ('soup', 5), ('does', 5), ('children', 5), ('so,”', 5), ('replied,', 5), ('yourself', 5), ('arms', 5), ('last,', 5), ('deep', 5), ('broken', 5), ('“now', 5), ('learn', 5), ('sighed', 5), ('waving', 5), ('part', 5), ('coming', 5), ('editions', 5), ('hands,', 5), ('court', 5), ('table,', 5), ('_not_', 5), ('write', 5), ('tea', 5), ('court,', 5), ('other,', 5), ('sit', 5), ('roof', 5), ('sounded', 5), ('silence.', 5), ('ebooks', 5), ('within', 5), ('replacement', 5), ('key', 5), ('remembered', 5), ('pair', 5), ('gloves', 5), ('sudden', 5), ('swam', 5), ('crowded', 5), ('window,', 5), ('head.', 5), ('dare', 5), ('call', 5), ('her:', 5), ('garden,', 5), ('“would', 5), ('cut', 5), ('ten', 5), ('hearts,', 5), ('happen', 5), ('hedgehog', 5), ('become', 5), ('you’ve', 5), ('off.', 5), ('once,', 5), ('pleased', 5), ('means', 5), ('understand', 5), ('young', 5), ('tone:', 5), ('simple', 5), ('different', 5), ('course,”', 5), ('air.', 5), ('dance.', 5), ('replied.', 5), ('that,', 5), ('shoes', 5), ('nice', 5), ('air,', 5), ('evidence', 5), ('cannot', 5), ('sister', 5), ('_was_', 5), ('hair', 5), ('wonderland', 5), ('protected', 5), ('law', 5), ('works,', 5), ('\"project', 5), ('work.', 5), ('country', 5), ('volunteers', 5), ('limited', 5), ('several', 5), ('mind', 5), ('“to', 5), ('kid', 5), ('conversation.', 5), ('puppy', 5), ('moved', 4), ('gardeners', 4), ('busily', 4), ('thing,', 4), ('lay', 4), ('eye', 4), ('himself', 4), ('timidly,', 4), ('gardeners,', 4), ('jumping', 4), ('nervous', 4), ('all.', 4), ('_have_', 4), ('shan’t', 4), ('meant', 4), ('whispered', 4), ('face,', 4), ('itself,', 4), ('wanted', 4), ('while,', 4), ('somebody', 4), ('listen', 4), ('distance,', 4), ('crowd', 4), ('said.', 4), ('argument', 4), ('unless', 4), ('met', 4), ('keeping', 4), ('height', 4), ('care', 4), ('things!”', 4), ('remark,', 4), ('duchess;', 4), ('day,', 4), ('taken', 4), ('fast', 4), ('stay', 4), ('taught', 4), ('fact,', 4), ('bottom', 4), ('(alice', 4), ('hastily,', 4), ('often', 4), ('shut', 4), ('say,”', 4), ('please,', 4), ('pardon!”', 4), ('herself;', 4), ('go,', 4), ('paper', 4), ('seems', 4), ('important', 4), ('dead', 4), ('sleep', 4), ('(or', 4), ('works.', 4), ('states.', 4), ('hope', 4), ('status', 4), ('posted', 4), ('provided', 4), ('sides', 4), ('fallen', 4), ('lessons', 4), ('dinah', 4), ('drink', 4), ('reach', 4), ('growing,', 4), ('nine', 4), ('capital', 4), ('_can_', 4), ('case', 4), ('you’ll', 4), ('more,', 4), ('since', 4), ('held', 4), ('do,”', 4), ('twinkle,', 4), ('finish', 4), ('story', 4), ('know—”', 4), ('draw', 4), ('begins', 4), ('asleep', 4), ('others', 4), ('rate', 4), ('glass', 4), ('“now,', 4), ('led', 4), ('mushroom', 4), ('nearer', 4), ('seven', 4), ('she,', 4), ('pack', 4), ('screamed', 4), ('here?”', 4), ('quietly', 4), ('stand', 4), ('short', 4), ('minute,', 4), ('ears', 4), ('sight,', 4), ('nobody', 4), ('worth', 4), ('passed', 4), ('“i’d', 4), ('back,', 4), ('conversation', 4), ('question,', 4), ('spoke', 4), ('duchess:', 4), ('one,”', 4), ('ventured', 4), ('chin', 4), ('could.', 4), ('now,”', 4), ('exclaimed', 4), ('trouble', 4), ('says', 4), ('here,”', 4), ('history,', 4), ('sir,', 4), ('school', 4), ('bill,', 4), ('hurry', 4), ('now.”', 4), ('walk', 4), ('dance?', 4), ('hastily.', 4), ('song,', 4), ('perfectly', 4), ('old,', 4), ('father', 4), ('sing', 4), ('sometimes', 4), ('hot', 4), ('soup!', 4), ('beau—ootiful', 4), ('soo—oop!', 4), ('trial', 4), ('carried', 4), ('chance', 4), ('fear', 4), ('slates,', 4), ('“call', 4), ('witness', 4), ('jury,', 4), ('until', 4), ('dropped', 4), ('sneezing', 4), ('high', 4), ('yet,”', 4), ('(the', 4), ('beat', 4), ('strange', 4), ('run', 4), ('tiny', 4), ('***', 4), ('creating', 4), ('trademark.', 4), ('following', 4), ('mission', 4), ('phrase', 4), ('online', 4), ('gutenberg\"', 4), ('individual', 4), ('states,', 4), ('freely', 4), ('compliance', 4), ('easily', 4), ('format', 4), ('check', 4), ('anyone', 4), ('providing', 4), ('copy,', 4), ('website', 4), ('certain', 4), ('rabbit-hole', 4), ('pictures', 4), ('they’ll', 4), ('likely', 4), ('no,', 4), ('garden', 4), ('stop', 4), ('puzzling', 4), ('shrinking', 4), ('again:', 4), ('silence', 4), ('yer', 4), ('“is', 4), ('stick,', 4), ('hookah', 4), ('pig,', 4), ('indignantly.', 3), ('forgetting', 3), ('considering', 3), ('remark.', 3), ('hoping', 3), ('wood.', 3), ('tea-party', 3), ('five,', 3), ('checked', 3), ('doing', 3), ('instantly', 3), ('eager', 3), ('severely', 3), ('for,', 3), ('decidedly,', 3), ('loud', 3), ('children,', 3), ('gone,', 3), ('timid', 3), ('face.', 3), ('began.', 3), ('said—”', 3), ('succeeded', 3), ('away,', 3), ('legs', 3), ('parts', 3), ('grin,', 3), ('appeared,', 3), ('game,', 3), ('mine', 3), ('to?”', 3), ('curiosity.', 3), ('executioner', 3), ('eagerly,', 3), ('all,', 3), ('other:', 3), ('brought', 3), ('arches', 3), ('less', 3), ('executed,', 3), ('remark', 3), ('duchess.', 3), ('finding', 3), ('“very', 3), ('is.”', 3), ('appeared', 3), ('venture', 3), ('“just', 3), ('frowning', 3), ('cost', 3), ('breath,', 3), ('alone', 3), ('nothing.', 3), ('begin.”', 3), ('real', 3), ('constant', 3), ('saying,', 3), ('“thank', 3), ('_must_', 3), ('asking', 3), ('silent', 3), ('did,”', 3), ('“yes,”', 3), ('french', 3), ('replied;', 3), ('show', 3), ('said:', 3), ('“because', 3), ('was,”', 3), ('is!”', 3), ('takes', 3), ('lobsters,', 3), ('bound', 3), ('lobsters', 3), ('eagerly', 3), ('be,”', 3), ('like,”', 3), ('“they’re', 3), ('obliged', 3), ('side,', 3), ('repeating', 3), ('natural', 3), ('panther', 3), ('dish', 3), ('e—e—evening,', 3), ('beautiful,', 3), ('trial’s', 3), ('stole', 3), ('tarts', 3), ('judge,', 3), ('king;', 3), ('jurors', 3), ('away.', 3), ('hunting', 3), ('tarts,', 3), ('wrote', 3), ('staring', 3), ('court.', 3), ('immediately', 3), ('suppressed', 3), ('reading', 3), ('cook.', 3), ('sleepy', 3), ('shrill', 3), ('“nothing', 3), ('“please', 3), ('day.', 3), ('mentioned', 3), ('(which', 3), ('bill', 3), ('baby,', 3), ('license,', 3), ('trademark,', 3), ('derivative', 3), ('printed', 3), ('agreement.', 3), ('return', 3), ('future', 3), ('performing,', 3), ('also', 3), ('distributed', 3), ('paragraphs', 3), ('1.e.1', 3), ('1.e.9.', 3), ('royalty', 3), ('applicable', 3), ('payments', 3), ('1.f.3,', 3), ('defect', 3), ('contact', 3), ('disclaimer', 3), ('-', 3), ('sending', 3), ('warranties', 3), ('limitation', 3), ('lewis', 3), ('carroll', 3), ('tale', 3), ('peeped', 3), ('aloud.', 3), ('see:', 3), ('funny', 3), ('girl', 3), ('me!', 3), ('mice', 3), ('catch', 3), ('wonder?”', 3), ('alas!', 3), ('alice!', 3), ('possibly', 3), ('box', 3), ('smaller,', 3), ('remained', 3), ('opening', 3), ('foot,', 3), ('gloves,', 3), ('spread', 3), ('rabbit’s', 3), ('william', 3), ('angry', 3), ('animals', 3), ('dodo,', 3), ('solemn', 3), ('noise', 3), ('certainly,”', 3), ('do!”', 3), ('vanished', 3), ('me,', 3), ('“sure,', 3), ('bill’s', 3), ('moving', 3), ('mushroom,', 3), ('youth,”', 3), ('old,”', 3), ('youth,', 3), ('question.', 3), ('her;', 3), ('little,', 3), ('howling', 3), ('o’clock', 3), ('angrily,', 3), ('him:', 3), ('confused', 3), ('think—”', 3), ('twice,', 3), ('“at', 3), ('picked', 3), ('table.', 3), ('key,', 3), ('garden.', 3), ('nibbling', 3), ('high:', 3), ('croquet-ground', 3), ('right,', 3), ('none', 3), ('bringing', 3), ('watching', 3), ('bowed', 3), ('sound', 3), ('stopped', 3), ('reply.', 3), ('tossing', 3), ('“what’s', 3), ('added,', 3), ('needn’t', 3), ('pointing', 3), ('business', 3), ('over!”', 3), ('carefully,', 3), ('unfortunate', 3), ('others.', 3), ('next.', 3), ('shoulder', 3), ('“she’s', 3), ('“did', 3), ('“she', 3), ('settled', 3), ('difficulty', 3), ('tucked', 3), ('hanging', 3), ('head,', 3), ('fond', 3), ('rules', 3), ('instance,', 3), ('all,”', 3), ('_are_', 3), ('round.', 3), ('confusion', 3), ('caught', 3), ('indeed', 3), ('life.', 3), ('grave', 3), ('turtle’s', 3), ('savage', 3), ('ear.', 3), ('“perhaps', 3), ('thing,”', 3), ('digging', 3), ('sounds', 3), ('“only', 3), ('putting', 3), ('politely,', 3), ('right,”', 3), ('duchess’s', 3), ('middle', 3), ('hers', 3), ('“have', 3), ('_that’s_', 3), ('that:', 3), ('tears,', 3), ('“this', 3), ('interesting', 3), ('sea.', 3), ('sea,', 3), ('“hold', 3), ('that.”', 3), ('_he_', 3), ('gryphon:', 3), ('did,', 3), ('hours', 3), ('turtle:', 3), ('decided', 3), ('quadrille', 3), ('choked', 3), ('shaking', 3), ('lived', 3), ('throw', 3), ('let’s', 3), ('whiting', 3), ('notion', 3), ('tails', 3), ('way.', 3), ('boots', 3), ('considered', 3), ('of?”', 3), ('them,”', 3), ('anywhere', 3), ('caterpillar,', 3), ('before,”', 3), ('nose,', 3), ('permitted', 3), ('so.', 3), ('soup!”', 3), ('cry', 3), ('answered', 3), ('sorts', 3), ('they’d', 3), ('girls', 3), ('yet,', 3), ('finger', 3), ('verdict,”', 3), ('teacup', 3), ('sent', 3), ('dormouse.', 3), ('down,”', 3), ('“give', 3), ('evidence,”', 3), ('larger', 3), ('crossed', 3), ('officers', 3), ('above', 3), ('twinkling', 3), ('_what?_”', 3), ('tea,”', 3), ('hurry.', 3), ('(as', 3), ('guessed', 3), ('edge', 3), ('proper', 3), ('tail', 3), ('handed', 3), ('miles', 3), ('letter,', 3), ('verses', 3), ('liked', 3), ('knee,', 3), ('“all', 3), ('muttering', 3), ('“let', 3), ('gently', 3), ('dear!”', 3), ('dream', 3), ('shriek', 3), ('filled', 3), ('paying', 3), ('complying', 3), ('subject', 3), ('obtain', 3), ('entity', 3), ('below.', 3), ('collection', 3), ('public', 3), ('support', 3), ('links', 3), ('immediate', 3), ('additional', 3), ('official', 3), ('money', 3), ('medium', 3), ('as,', 3), ('allow', 3), ('cause', 3), (\"foundation's\", 3), ('salt', 3), ('meet', 3), ('particular', 3), ('produced', 3), ('book', 3), ('dark', 3), ('managed', 3), ('she’ll', 3), ('dinah,', 3), ('late', 3), ('middle,', 3), ('out-of-the-way', 3), ('happened', 3), ('“drink', 3), ('high,', 3), ('fancy', 3), ('croquet', 3), ('child', 3), ('larger,', 3), ('“which', 3), ('size:', 3), ('expecting', 3), ('you!”', 3), ('pattering', 3), ('duchess!', 3), ('oh!', 3), ('doth', 3), ('tail,', 3), ('high.', 3), ('_will_', 3), ('fire,', 3), ('she’s', 3), ('lory', 3), ('lory,', 3), ('pressed', 3), ('speaking,', 3), ('angrily.', 3), ('pleaded', 3), ('suit', 3), ('mary', 3), ('now!”', 3), ('hearing', 3), ('’em', 3), ('bill!', 3), ('“one', 3), ('green', 3), ('tree', 3), ('eggs,', 3), ('in?”', 3), ('nursing', 3), ('grunted', 3), ('mad.”', 3), ('yourself.”', 2), ('“one,', 2), ('learning', 2), ('“treacle,”', 2), ('“let’s', 2), ('move', 2), ('on.”', 2), ('place,', 2), ('worse', 2), ('upset', 2), ('treacle', 2), ('water', 2), ('well,”', 2), ('were,”', 2), ('silent.', 2), ('instantly,', 2), ('neither', 2), ('life!”', 2), ('thought.', 2), ('once.”', 2), ('viii.', 2), ('painting', 2), ('sulky', 2), ('tone;', 2), ('beheaded!”', 2), ('business!”', 2), ('instead', 2), ('suddenly:', 2), ('nothing,', 2), ('threw', 2), ('themselves', 2), ('shaped', 2), ('ornamented', 2), ('hearts.', 2), ('smiling', 2), ('king’s', 2), ('grand', 2), ('doubtful', 2), ('lie', 2), ('rule', 2), ('besides,', 2), ('procession', 2), ('“my', 2), ('know?”', 2), ('wild', 2), ('loudly', 2), ('timidly', 2), ('“turn', 2), ('else.', 2), ('remaining', 2), ('silent,', 2), ('then!”', 2), ('joined', 2), ('fine', 2), ('side.', 2), ('raised', 2), ('directions,', 2), ('enough,', 2), ('unrolled', 2), ('wherever', 2), ('send', 2), ('players', 2), ('passion,', 2), ('shouting', 2), ('sure,', 2), ('cat:', 2), ('on?”', 2), ('come,', 2), ('are,', 2), ('cat,”', 2), ('book,', 2), ('already', 2), ('executed', 2), ('not.', 2), ('search', 2), ('fight', 2), ('excellent', 2), ('flamingo', 2), ('tree.', 2), ('uncomfortable.', 2), ('belongs', 2), ('“fetch', 2), ('wildly', 2), ('ix.', 2), ('startled', 2), ('secondly,', 2), ('’tis', 2), ('“ah,', 2), ('sense,', 2), ('cautiously', 2), ('anxious', 2), ('clear', 2), ('said;', 2), ('here.', 2), ('appear', 2), ('longer', 2), ('presents', 2), ('again?”', 2), ('think,”', 2), ('linked', 2), ('folded,', 2), ('ground', 2), ('guests', 2), ('remarking', 2), ('players,', 2), ('custody', 2), ('executions', 2), ('(if', 2), ('lady', 2), ('creature,', 2), ('safe', 2), ('life,', 2), ('sad', 2), ('lonely', 2), ('sighing', 2), ('heart', 2), ('wants', 2), ('deep,', 2), ('“sit', 2), ('minutes.', 2), ('heavy', 2), ('sobbing', 2), ('master', 2), ('didn’t!”', 2), ('music.”', 2), ('“ah!', 2), ('relief.', 2), ('regular', 2), ('paws', 2), ('questions', 2), ('learnt', 2), ('him,”', 2), ('sigh:', 2), ('say.”', 2), ('subject.', 2), ('“tell', 2), ('x.', 2), ('deeply,', 2), ('eyes.', 2), ('sobs', 2), ('recovered', 2), ('(“i', 2), ('“why,”', 2), ('form', 2), ('“two', 2), ('“_that_', 2), ('sea', 2), ('sea!”', 2), ('solemnly', 2), ('treading', 2), ('mark', 2), ('tail.', 2), ('matters', 2), ('shore,', 2), ('further', 2), ('pale,', 2), ('whiting,”', 2), ('often,', 2), ('thoughtfully.', 2), ('all.”', 2), ('“why?”', 2), ('thoroughly', 2), ('“does', 2), ('impatiently:', 2), ('whose', 2), ('fish', 2), ('then.”', 2), ('“explain', 2), ('quiet', 2), ('“_you', 2), ('authority', 2), ('duck', 2), ('follows', 2), ('position', 2), ('owl', 2), ('sharing', 2), ('share', 2), ('growl,', 2), ('interrupted,', 2), ('this:—', 2), ('“beautiful', 2), ('cares', 2), ('soup?', 2), ('parchment', 2), ('hungry', 2), ('done,”', 2), ('there.', 2), ('twelve', 2), ('loud,', 2), ('talking.', 2), ('quickly', 2), ('use,', 2), ('blew', 2), ('blasts', 2), ('summer', 2), ('“consider', 2), ('jury.', 2), ('witness!”', 2), ('bread-and-butter', 2), ('hare,', 2), ('_think_', 2), ('pale', 2), ('was:', 2), ('“—and', 2), ('week', 2), ('rate,', 2), ('slipped', 2), ('“your', 2), ('cross-examine', 2), ('_this_', 2), ('must,', 2), ('dormouse,”', 2), ('out.', 2), ('him!', 2), ('pinch', 2), ('like,', 2), ('xii.', 2), ('minutes,', 2), ('“_un_important,', 2), ('bit,”', 2), ('mile', 2), ('high,”', 2), ('jurymen.', 2), ('brightened', 2), ('you?', 2), ('atom', 2), ('eye;', 2), ('nonsense!”', 2), ('won’t!”', 2), ('bank,', 2), ('lap', 2), ('sister,', 2), ('leaves', 2), ('“wake', 2), ('wonderful', 2), ('leaning', 2), ('around', 2), ('grass', 2), ('teacups', 2), ('guinea-pigs,', 2), ('mixed', 2), ('distant', 2), ('dull', 2), ('rattling', 2), ('years,', 2), ('files', 2), ('formats', 2), ('owns', 2), ('(and', 2), ('copying', 2), ('registered', 2), ('ebook,', 2), ('promoting', 2), ('abide', 2), ('1.e.8.', 2), ('domain', 2), ('prevent', 2), ('copying,', 2), ('based', 2), ('references', 2), ('1.e.1.', 2), ('active', 2), ('prominently', 2), ('copied', 2), ('restrictions', 2), ('whatsoever.', 2), ('re-use', 2), ('fees', 2), ('appearing', 2), ('requirements', 2), ('1.e.8', 2), ('\"plain', 2), ('vanilla', 2), ('ascii\"', 2), ('owner', 2), ('legal', 2), ('liability,', 2), ('breach', 2), ('lieu', 2), ('refund.', 2), ('fix', 2), ('widest', 2), ('efforts', 2), ('reaching', 2), ('created', 2), ('page', 2), ('www.gutenberg.org', 2), ('exempt', 2), ('depends', 2), ('carry', 2), ('solicit', 2), ('visit', 2), ('loose', 2), ('start', 2), ('ii.', 2), ('iii.', 2), ('iv.', 2), ('sends', 2), ('v.', 2), ('vi.', 2), ('vii.', 2), ('nor', 2), ('“oh', 2), ('occurred', 2), ('started', 2), ('curiosity,', 2), ('di\n\n*** WARNING: max output size exceeded, skipping output. ***\n\n—‘the', 1), ('mine,', 1), ('yours.’”', 1), ('attended', 1), ('simply—‘never', 1), ('otherwise.’”', 1), ('better,”', 1), ('“pray', 1), ('trouble!”', 1), ('present', 1), ('cheap', 1), ('birthday', 1), ('“thinking', 1), ('worried.', 1), ('pigs', 1), ('fly;', 1), ('died', 1), ('favourite', 1), ('thunderstorm.', 1), ('fair', 1), ('warning,”', 1), ('spoke;', 1), ('“either', 1), ('choice!”', 1), ('choice,', 1), ('moment.', 1), ('game,”', 1), ('absence,', 1), ('left,', 1), ('history,”', 1), ('company', 1), ('ordered.', 1), ('lazy', 1), ('ordered;”', 1), ('leaving', 1), ('queen:', 1), ('eyes:', 1), ('chuckled.', 1), ('fun!”', 1), ('executes', 1), ('never!”', 1), ('ledge', 1), ('pitied', 1), ('sorrow?”', 1), ('sorrow,', 1), ('lady,”', 1), ('patiently.', 1), ('exclamation', 1), ('“hjckrrh!”', 1), ('story,”', 1), ('little,”', 1), ('calmly,', 1), ('tortoise—”', 1), ('tortoise', 1), ('angrily:', 1), ('“really', 1), ('gryphon;', 1), ('sink', 1), ('“drive', 1), ('fellow!', 1), ('mayn’t', 1), ('it—”', 1), ('educations—in', 1), ('too,”', 1), ('“with', 1), ('anxiously.', 1), ('learned', 1), ('washing?”', 1), ('“certainly', 1), ('_ours_', 1), ('‘french,', 1), ('music,', 1), ('_and', 1), ('washing_—extra.’”', 1), ('“living', 1), ('sea.”', 1), ('sigh.', 1), ('inquired', 1), ('writhing,', 1), ('arithmetic—ambition,', 1), ('distraction,', 1), ('uglification,', 1), ('derision.”', 1), ('‘uglification,’”', 1), ('say.', 1), ('uglifying!”', 1), ('beautify', 1), ('doubtfully:', 1), ('means—to—make—anything—prettier.”', 1), ('simpleton.”', 1), ('subjects', 1), ('drawling—the', 1), ('drawling-master', 1), ('conger-eel,', 1), ('drawling,', 1), ('stretching,', 1), ('fainting', 1), ('coils.”', 1), ('like?”', 1), ('stiff.', 1), ('“hadn’t', 1), ('master,', 1), ('though.', 1), ('was.”', 1), ('laughing', 1), ('hid', 1), ('paws.', 1), ('day,”', 1), ('plan!”', 1), ('remarked:', 1), ('lessen', 1), ('day.”', 1), ('holiday?”', 1), ('eagerly.', 1), ('bone', 1), ('punching', 1), ('cheeks,', 1), ('sea-shore—”', 1), ('turtles,', 1), ('cleared', 1), ('way—”', 1), ('advance', 1), ('“advance', 1), ('partners—”', 1), ('“—change', 1), ('retire', 1), ('the—”', 1), ('“—as', 1), ('can—”', 1), ('capering', 1), ('about.', 1), ('“change', 1), ('yelled', 1), ('“back', 1), ('land', 1), ('figure,”', 1), ('creatures,', 1), ('quietly,', 1), ('sing,”', 1), ('sadly:—', 1), ('faster?”', 1), ('porpoise', 1), ('he’s', 1), ('turtles', 1), ('“too', 1), ('far!”', 1), ('kindly,', 1), ('watch,”', 1), ('song', 1), ('dinn—”', 1), ('like.”', 1), ('crumbs.”', 1), ('crumbs,”', 1), ('“crumbs', 1), ('mouths;', 1), ('is—”', 1), ('eyes.—“tell', 1), ('thrown', 1), ('mouths.', 1), ('interesting.', 1), ('before.”', 1), ('shiny?”', 1), ('believe.”', 1), ('sea,”', 1), ('whiting.', 1), ('“soles', 1), ('“any', 1), ('‘keep', 1), ('please:', 1), ('porpoise.”', 1), ('“wouldn’t', 1), ('really?”', 1), ('_me_,', 1), ('adventures.”', 1), ('timidly:', 1), ('time.”', 1), ('mouths', 1), ('gained', 1), ('courage', 1), ('listeners', 1), ('william_,”', 1), ('“stand', 1), ('sluggard_,’”', 1), ('lessons!”', 1), ('quadrille,', 1), ('lobster;', 1), ('brown,', 1), ('trims', 1), ('buttons,', 1), ('toes.”', 1), ('sands', 1), ('dry,', 1), ('gay', 1), ('lark,', 1), ('contemptuous', 1), ('rises', 1), ('around,', 1), ('tremulous', 1), ('sound.]', 1), ('turtle;', 1), ('uncommon', 1), ('nonsense.”', 1), ('explained,”', 1), ('toes?”', 1), ('persisted.', 1), ('‘_i', 1), ('garden_.’”', 1), ('voice:—', 1), ('marked,', 1), ('gravy,', 1), ('kindly', 1), ('pocket', 1), ('knife', 1), ('banquet—]', 1), ('quadrille?”', 1), ('song?”', 1), ('kind,”', 1), ('accounting', 1), ('tastes!', 1), ('fellow?”', 1), ('rich', 1), ('green,', 1), ('tureen!', 1), ('dainties', 1), ('fish,', 1), ('dish?', 1), ('pennyworth', 1), ('beauti—ful', 1), ('beginning!”', 1), ('faster,', 1), ('faintly', 1), ('breeze', 1), ('“soo—oop', 1), ('hearts', 1), ('them—all', 1), ('standing', 1), ('chains,', 1), ('refreshments!”', 1), ('justice', 1), ('judge,”', 1), ('wig.”', 1), ('wore', 1), ('(look', 1), ('becoming.', 1), ('creatures,”', 1), ('“creatures,”', 1), ('animals,', 1), ('too,', 1), ('“jury-men”', 1), ('slates.', 1), ('doing?”', 1), ('begun.”', 1), ('“silence', 1), ('court!”', 1), ('spectacles', 1), ('shoulders,', 1), ('spell', 1), ('“stupid,”', 1), ('neighbour', 1), ('pencil', 1), ('squeaked.', 1), ('stand,', 1), ('juror', 1), ('day;', 1), ('“herald,', 1), ('day:', 1), ('witness,”', 1), ('pardon,', 1), ('finished,”', 1), ('begin?”', 1), ('arm-in-arm', 1), ('march,', 1), ('“fifteenth,”', 1), ('“write', 1), ('reduced', 1), ('shillings', 1), ('“_stolen!_”', 1), ('exclaimed,', 1), ('memorandum', 1), ('fact.', 1), ('explanation;', 1), ('encourage', 1), ('sensation,', 1), ('court;', 1), ('squeeze', 1), ('so.”', 1), ('meekly:', 1), ('“you’ve', 1), ('nonsense,”', 1), ('boldly:', 1), ('too.”', 1), ('pace,”', 1), ('dormouse:', 1), ('ridiculous', 1), ('singers', 1), ('tea—not', 1), ('thin—and', 1), ('tea—”', 1), ('_began_', 1), ('sharply.', 1), ('man,”', 1), ('that—only', 1), ('did!”', 1), ('denies', 1), ('denied', 1), ('remarked', 1), ('knee.', 1), ('_speaker_,”', 1), ('guinea-pigs', 1), ('strings:', 1), ('trials,', 1), ('attempts', 1), ('applause,', 1), ('lower,”', 1), ('_sit_', 1), ('suppressed.', 1), ('guinea-pigs!”', 1), ('better.”', 1), ('“shan’t,”', 1), ('must,”', 1), ('folding', 1), ('“collar', 1), ('shrieked', 1), ('dormouse!', 1), ('court!', 1), ('“never', 1), ('mind!”', 1), ('witness.', 1), ('ache!”', 1), ('list,', 1), ('“—for', 1), ('flurry', 1), ('tipped', 1), ('skirt,', 1), ('globe', 1), ('_beg_', 1), ('dismay,', 1), ('accident', 1), ('die.', 1), ('proceed,”', 1), ('emphasis,', 1), ('haste,', 1), ('unable', 1), ('move.', 1), ('signifies', 1), ('other.”', 1), ('pencils', 1), ('history', 1), ('accident,', 1), ('overcome', 1), ('gazing', 1), ('“nothing,”', 1), ('persisted', 1), ('respectful', 1), ('best.', 1), ('“important,”', 1), ('“unimportant.”', 1), ('“silence!”', 1), ('“rule', 1), ('_all', 1), ('persons', 1), ('court_.”', 1), ('“_i’m_', 1), ('are,”', 1), ('rate,”', 1), ('rule:', 1), ('invented', 1), ('note-book', 1), ('prisoner', 1), ('to—to', 1), ('somebody.”', 1), ('“unless', 1), ('rabbit;', 1), ('verses.”', 1), ('queerest', 1), ('imitated', 1), ('hand,”', 1), ('again.)', 1), ('knave,', 1), ('prove', 1), ('did:', 1), ('end.”', 1), ('honest', 1), ('clever', 1), ('_proves_', 1), ('about!”', 1), ('spectacles.', 1), ('“where', 1), ('end:', 1), ('read:—', 1), ('swim.', 1), ('involved', 1), ('trusts', 1), ('(before', 1), ('obstacle', 1), ('ourselves,', 1), ('sixpence.', 1), ('paper.', 1), ('spreading', 1), ('“—_said', 1), ('swim_—”', 1), ('swim,', 1), ('knave.', 1), ('cardboard.)', 1), ('himself:', 1), ('“‘_we', 1), ('true_—’', 1), ('course—‘_i', 1), ('two_—’', 1), ('‘_they', 1), ('are!”', 1), ('clearer', 1), ('_that_.', 1), ('fits,', 1), ('furiously,', 1), ('finger,', 1), ('_fit_', 1), ('smile.', 1), ('pun!”', 1), ('laughed,', 1), ('“sentence', 1), ('first—verdict', 1), ('afterwards.”', 1), ('loudly.', 1), ('first!”', 1), ('purple.', 1), ('anger,', 1), ('fluttered', 1), ('had!”', 1), ('dream!”', 1), ('tea;', 1), ('ran,', 1), ('setting', 1), ('sun,', 1), ('wandering', 1), ('eyes—and', 1), ('listened,', 1), ('alive', 1), ('sister’s', 1), ('rustled', 1), ('by—the', 1), ('pool—she', 1), ('pig-baby', 1), ('slate-pencil,', 1), ('choking', 1), ('reality—the', 1), ('rustling', 1), ('reeds—the', 1), ('sheep-bells,', 1), ('shepherd', 1), ('noises,', 1), ('knew)', 1), ('clamour', 1), ('farm-yard—while', 1), ('lastly,', 1), ('would,', 1), ('after-time,', 1), ('keep,', 1), ('ago:', 1), ('remembering', 1), ('child-life,', 1), ('happy', 1), ('days.', 1), ('11-0.txt', 1), ('updated', 1), ('previous', 1), ('one--the', 1), ('special', 1), ('apply', 1), ('purpose', 1), ('creation', 1), ('performances', 1), ('research.', 1), ('away--you', 1), ('practically', 1), ('gutenberg\"),', 1), ('www.gutenberg.org/license.', 1), ('accept', 1), ('lot', 1), ('preserve', 1), ('(\"the', 1), ('foundation\"', 1), ('pglaf),', 1), ('compilation', 1), ('unprotected', 1), ('distributing,', 1), ('removed.', 1), ('attached', 1), ('1.d.', 1), ('change.', 1), ('addition', 1), ('whenever', 1), ('associated)', 1), ('accessed,', 1), ('displayed,', 1), ('performed,', 1), ('viewed,', 1), ('distributed:', 1), ('indicating', 1), ('holder),', 1), ('holder,', 1), ('imposed', 1), ('unlink', 1), ('detach', 1), ('containing', 1), ('1.e.5.', 1), ('display,', 1), ('processing', 1), ('hypertext', 1), ('(www.gutenberg.org),', 1), ('cost,', 1), ('exporting', 1), ('request,', 1), ('original', 1), ('alternate', 1), ('viewing,', 1), ('20%', 1), ('profits', 1), ('calculated', 1), ('method', 1), ('owed', 1), ('agreed', 1), ('legally', 1), ('required', 1), ('prepare)', 1), ('periodic', 1), ('clearly', 1), ('address', 1), ('\"information', 1), ('foundation.\"', 1), ('notifies', 1), ('30', 1), ('require', 1), ('possessed', 1), ('discontinue', 1), ('discovered', 1), ('1.f.1.', 1), ('employees', 1), ('effort', 1), ('stored,', 1), ('\"defects,\"', 1), ('incomplete,', 1), ('data,', 1), ('damaged', 1), ('codes', 1), ('1.f.2.', 1), ('warranty,', 1), ('refund\"', 1), ('described', 1), ('disclaim', 1), ('fees.', 1), ('negligence,', 1), ('strict', 1), ('warranty', 1), ('distributor', 1), ('liable', 1), ('receiving', 1), ('explanation', 1), ('elect', 1), ('electronically,', 1), ('choose', 1), ('defective,', 1), ('problem.', 1), ('1.f.4.', 1), ('express', 1), ('implied,', 1), ('merchantability', 1), ('fitness', 1), ('exclusion', 1), ('types', 1), ('maximum', 1), ('invalidity', 1), ('void', 1), ('indemnity', 1), ('employee', 1), ('harmless', 1), ('fees,', 1), ('directly', 1), ('occur:', 1), ('(a)', 1), ('(b)', 1), ('modification,', 1), ('(c)', 1), ('2.', 1), ('readable', 1), ('variety', 1), ('middle-aged', 1), ('computers.', 1), ('hundreds', 1), ('need', 1), ('critical', 1), (\"gutenberg-tm's\", 1), ('goals', 1), ('ensuring', 1), ('generations', 1), ('come.', 1), ('secure', 1), ('help,', 1), ('non-profit', 1), ('educational', 1), ('corporation', 1), ('organized', 1), ('granted', 1), ('identification', 1), ('deductible', 1), (\"state's\", 1), ('laws.', 1), ('office', 1), ('809', 1), ('north', 1), ('1500', 1), ('lake', 1), ('city,', 1), ('ut', 1), ('4.', 1), ('survive', 1), ('increasing', 1), ('licensed', 1), ('machine-readable', 1), ('outdated', 1), ('irs.', 1), ('committed', 1), ('uniform', 1), ('effort,', 1), ('paperwork', 1), ('determine', 1), ('solicitation', 1), ('unsolicited', 1), ('international', 1), ('statements', 1), ('treatment', 1), ('swamp', 1), ('staff.', 1), ('web', 1), ('pages', 1), ('donation', 1), ('methods', 1), ('addresses.', 1), ('credit', 1), ('visit:', 1), ('professor', 1), ('s.', 1), ('originator', 1), ('support.', 1), ('editions,', 1), ('included.', 1), ('thus,', 1), ('necessarily', 1), ('edition.', 1), ('main', 1), ('pg', 1), ('includes', 1), ('gutenberg-tm,', 1), ('ebooks,', 1), ('newsletter', 1), ('ebooks.', 1), ('title:', 1), ('release', 1), ('january,', 1), ('[ebook', 1), ('recently', 1), ('updated:', 1), ('by:', 1), ('dibianca', 1), ('david', 1), ('3.0', 1), ('twice', 1), ('conversations', 1), ('“without', 1), ('daisy-chain', 1), ('pink', 1), ('that;', 1), ('late!”', 1), ('(when', 1), ('wondered', 1), ('natural);', 1), ('actually', 1), ('fortunately', 1), ('tunnel', 1), ('plenty', 1), ('pegs.', 1), ('“orange', 1), ('empty:', 1), ('drop', 1), ('“well!”', 1), ('stairs!', 1), ('end?', 1), ('time?”', 1), ('somewhere', 1), ('centre', 1), ('schoolroom,', 1), ('knowledge,', 1), ('practice', 1), ('over)', 1), ('distance—but', 1), ('say.)', 1), ('downward!', 1), ('antipathies,', 1), ('“—but', 1), ('australia?”', 1), ('spoke—fancy', 1), ('_curtseying_', 1), ('ignorant', 1), ('asking!', 1), ('ask:', 1), ('somewhere.”', 1), ('miss', 1), ('tea-time.', 1), ('bat,', 1), ('bats,', 1), ('bats?”', 1), ('dozing', 1), ('earnestly,', 1), ('bat?”', 1), ('heap', 1), ('hurrying', 1), ('lost:', 1), ('long,', 1), ('lamps', 1), ('roof.', 1), ('solid', 1), ('hall;', 1), ('locks', 1), ('fitted!', 1), ('rat-hole:', 1), ('knelt', 1), ('passage', 1), ('saw.', 1), ('beds', 1), ('telescope!', 1), ('lately,', 1), ('(“which', 1), ('‘_poison_’', 1), ('burnt,', 1), ('eaten', 1), ('them:', 1), ('red-hot', 1), ('poker', 1), ('long;', 1), ('deeply', 1), ('disagree', 1), ('later.', 1), ('nice,', 1), ('had,', 1), ('flavour', 1), ('cherry-tart,', 1), ('custard,', 1), ('roast', 1), ('turkey,', 1), ('toast,)', 1), ('telescope.”', 1), ('indeed:', 1), ('further:', 1), ('then?”', 1), ('blown', 1), ('once;', 1), ('plainly', 1), ('slippery;', 1), ('trying,', 1), ('advice,', 1), ('seldom', 1), ('scolded', 1), ('pretending', 1), ('pretend', 1), ('respectable', 1), ('door;', 1), ('happens!”', 1), ('ate', 1), ('way?', 1), ('way?”,', 1), ('eats', 1), ('happen,', 1), ('cake.', 1), ('english);', 1), ('largest', 1), ('telescope', 1), ('was!', 1), ('good-bye,', 1), ('feet!”', 1), ('off).', 1), ('stockings', 1), ('able!', 1), ('you:', 1), ('odd', 1), ('look!', 1), ('_alice’s', 1), ('hearthrug,', 1), ('fender,_', 1), ('love_).', 1), ('talking!”', 1), ('hall:', 1), ('hopeless', 1), ('yourself,”', 1), ('this),', 1), ('way!', 1), ('shedding', 1), ('gallons', 1), ('hall.', 1), ('returning,', 1), ('splendidly', 1), ('waiting!”', 1), ('desperate', 1), ('skurried', 1), ('darkness', 1), ('hall', 1), ('hot,', 1), ('fanning', 1), ('talking:', 1), ('to-day!', 1), ('night?', 1), ('morning?', 1), ('i?', 1), ('puzzle!”', 1), ('ringlets', 1), ('little!', 1), ('_she’s_', 1), ('i,', 1), ('thirteen,', 1), ('is—oh', 1), ('rate!', 1), ('london', 1), ('rome,', 1), ('certain!', 1), ('strange,', 1), ('do:—', 1), ('crocodile', 1), ('waters', 1), ('nile', 1), ('scale!', 1), ('cheerfully', 1), ('claws,', 1), ('welcome', 1), ('words,”', 1), ('mabel', 1), ('poky', 1), ('toys', 1), ('dear!’', 1), ('‘who', 1), ('then?', 1), ('here!”', 1), ('guess,', 1), ('holding,', 1), ('avoid', 1), ('altogether.', 1), ('narrow', 1), ('escape!”', 1), ('child,', 1), ('never!', 1), ('bad,', 1), ('slipped,', 1), ('splash!', 1), ('railway,”', 1), ('conclusion,', 1), ('machines', 1), ('sand', 1), ('wooden', 1), ('houses,', 1), ('railway', 1), ('suppose,', 1), ('drowned', 1), ('tears!', 1), ('sure!', 1), ('walrus', 1), ('talk:', 1), ('trying.”', 1), ('pool?', 1), ('o', 1), ('mouse!”', 1), ('mouse:', 1), ('latin', 1), ('mouse—of', 1), ('mouse—o', 1), ('mouse!”)', 1), ('inquisitively,', 1), ('english,”', 1), ('daresay', 1), ('happened.)', 1), ('“où', 1), ('ma', 1), ('chatte?”', 1), ('lesson-book.', 1), ('leap', 1), ('fright.', 1), ('cats.”', 1), ('cats!”', 1), ('dinah:', 1), ('lazily', 1), ('washing', 1), ('soft', 1), ('bristling', 1), ('_hated_', 1), ('vulgar', 1), ('things!', 1), ('you—are', 1), ('dogs?”', 1), ('bright-eyed', 1), ('terrier,', 1), ('curly', 1), ('brown', 1), ('dinner,', 1), ('things—i', 1), ('hundred', 1), ('pounds!', 1), ('commotion', 1), ('softly', 1), ('dogs.”', 1), ('queer-looking', 1), ('draggled', 1), ('feathers,', 1), ('dripping', 1), ('wet,', 1), ('consultation', 1), ('familiarly', 1), ('better;”', 1), ('fixed', 1), ('bad', 1), ('soon.', 1), ('ready?', 1), ('please!', 1), ('‘william', 1), ('pope,', 1), ('submitted', 1), ('leaders,', 1), ('edwin', 1), ('northumbria—’”', 1), ('shiver.', 1), ('frowning,', 1), ('politely:', 1), ('“—i', 1), ('‘edwin', 1), ('northumbria,', 1), ('declared', 1), ('patriotic', 1), ('advisable—’”', 1), ('_what_?”', 1), ('duck.', 1), ('means.”', 1), ('duck:', 1), ('frog', 1), ('worm.', 1), ('advisable', 1), ('edgar', 1), ('atheling', 1), ('crown.', 1), ('william’s', 1), ('conduct', 1), ('moderate.', 1), ('insolence', 1), ('dear?”', 1), ('case,”', 1), ('energetic', 1), ('english!”', 1), ('eaglet.', 1), ('words,', 1), ('eaglet', 1), ('bent', 1), ('smile:', 1), ('audibly.', 1), ('caucus-race.”', 1), ('anything.', 1), ('(and,', 1), ('winter', 1), ('(“the', 1), ('exact', 1), ('three,', 1), ('away,”', 1), ('asking,', 1), ('won?”', 1), ('shakespeare,', 1), ('“_everybody_', 1), ('prizes.”', 1), ('prizes?”', 1), ('finger;', 1), ('calling', 1), ('“prizes!', 1), ('despair', 1), ('(luckily', 1), ('prizes.', 1), ('a-piece,', 1), ('gravely.', 1), ('thimble,”', 1), ('“hand', 1), ('laugh;', 1), ('bowed,', 1), ('complained', 1), ('theirs,', 1), ('ones', 1), ('begged', 1), ('more.', 1), ('tale!”', 1), ('sighing.', 1), ('mouse’s', 1), ('tail;', 1), ('sad?”', 1), ('“fury', 1), ('‘let', 1), ('prosecute', 1), ('_you_.—come,', 1), ('morning', 1), ('cur,', 1), ('breath.’', 1), ('jury,’', 1), ('cunning', 1), ('fury:', 1), ('cause,', 1), ('death.’”', 1), ('attending!”', 1), ('humbly:', 1), ('fifth', 1), ('bend,', 1), ('_not!_”', 1), ('undo', 1), ('sort,”', 1), ('offended,', 1), ('growled', 1), ('chorus,', 1), ('quicker.', 1), ('stay!”', 1), ('lesson', 1), ('ma!”', 1), ('snappishly.', 1), ('patience', 1), ('oyster!”', 1), ('addressing', 1), ('particular.', 1), ('“she’d', 1), ('think!', 1), ('once:', 1), ('throat!”', 1), ('dears!', 1), ('alone.', 1), ('footsteps', 1), ('story.', 1), ('paws!', 1), ('whiskers!', 1), ('ferrets', 1), ('ferrets!', 1), ('good-naturedly', 1), ('seen—everything', 1), ('completely.', 1), ('fan!', 1), ('quick,', 1), ('neat', 1), ('“w.', 1), ('engraved', 1), ('upstairs,', 1), ('seems,”', 1), ('dinah’ll', 1), ('“‘miss', 1), ('directly,', 1), ('walk!’', 1), ('nurse!', 1), ('room,', 1), ('label', 1), ('_something_', 1), ('happen,”', 1), ('does.', 1), ('expected:', 1), ('pressing', 1), ('ceiling,', 1), ('broken.', 1), ('enough—i', 1), ('resource,', 1), ('whatever', 1), ('happens.', 1), ('magic', 1), ('effect,', 1), ('grew', 1), ('unhappy.', 1), ('rabbits.', 1), ('rabbit-hole—and', 1), ('yet—and', 1), ('yet—it’s', 1), ('life!', 1), ('fairy-tales,', 1), ('comfort,', 1), ('foolish', 1), ('alice!”', 1), ('_you_,', 1), ('lesson-books!”', 1), ('altogether;', 1), ('ann!', 1), ('ann!”', 1), ('moment!”', 1), ('stairs.', 1), ('inwards,', 1), ('failure.', 1), ('window.”', 1), ('crash', 1), ('rabbit’s—“pat!', 1), ('“sure', 1), ('“digging', 1), ('_this!_”', 1), ('(he', 1), ('“an', 1), ('goose!', 1), ('window!”', 1), ('honour:', 1), ('rate:', 1), ('then;', 1), ('all!”', 1), ('coward!”', 1), ('glass.', 1), ('cucumber-frames', 1), ('be!”', 1), ('pulling', 1), ('_could!_', 1), ('“where’s', 1), ('ladder?—why,', 1), ('lad!—here,', 1), ('corner—no,', 1), ('tie', 1), ('particular—here,', 1), ('slate—oh,', 1), ('(a', 1), ('crash)—“now,', 1), ('that?—it', 1), ('fancy—who’s', 1), ('shan’t!', 1), ('it!—_that_', 1), ('down—here,', 1), ('chimney!”', 1), ('“shy,', 1), ('fireplace', 1), ('sure;', 1), ('animal', 1), ('along—“catch', 1), ('hedge!”', 1), ('voices—“hold', 1), ('head—brandy', 1), ('feeble,', 1), ('(“that’s', 1), ('know—no', 1), ('thank', 1), ('now—but', 1), ('comes', 1), ('jack-in-the-box,', 1), ('sky-rocket!”', 1), ('fellow!”', 1), ('with.”', 1), ('“you’d', 1), ('surprise', 1), ('size;', 1), ('suppose.”', 1), ('directly.', 1), ('outside.', 1), ('bottle.', 1), ('appeared;', 1), ('wood,', 1), ('plan.”', 1), ('arranged;', 1), ('peering', 1), ('enormous', 1), ('“poor', 1), ('whistle', 1), ('hungry,', 1), ('spite', 1), ('coaxing.', 1), ('dodged', 1), ('thistle,', 1), ('over;', 1), ('tumbled', 1), ('heels', 1), ('trampled', 1), ('thistle', 1), ('forwards', 1), ('barking', 1), ('hoarsely', 1), ('tongue', 1), ('escape;', 1), ('puppy’s', 1), ('faint', 1), ('was!”', 1), ('leant', 1), ('buttercup', 1), ('fanned', 1), ('leaves:', 1), ('if—if', 1), ('it!', 1), ('see—how', 1), ('managed?', 1), ('blades', 1), ('blue', 1), ('hookah,', 1), ('silence:', 1), ('languid,', 1), ('“i—i', 1), ('sternly.', 1), ('yourself!”', 1), ('myself,', 1), ('see,”', 1), ('chrysalis—you', 1), ('know—and', 1), ('butterfly,', 1), ('queer,', 1), ('feelings', 1), ('_me_.”', 1), ('first.”', 1), ('question;', 1), ('“keep', 1), ('swallowing', 1), ('wait,', 1), ('hearing.', 1), ('changed,', 1), ('used—and', 1), ('together!”', 1), ('things?”', 1), ('bee,”', 1), ('william_,’”', 1), ('folded', 1), ('began:—', 1), ('william,”', 1), ('man', 1), ('white;', 1), ('head—', 1), ('right?”', 1), ('son,', 1), ('injure', 1), ('brain;', 1), ('fat;', 1), ('back-somersault', 1), ('door—', 1), ('sage,', 1), ('limbs', 1), ('supple', 1), ('ointment—one', 1), ('box—', 1), ('sell', 1), ('couple?”', 1), ('jaws', 1), ('goose,', 1), ('father,', 1), ('muscular', 1), ('jaw,', 1), ('lasted', 1), ('life.”', 1), ('steady', 1), ('ever;', 1), ('balanced', 1), ('eel', 1), ('questions,', 1), ('airs!', 1), ('“some', 1), ('altered.”', 1), ('size,”', 1), ('content', 1), ('“three', 1), ('be.”', 1), ('upright', 1), ('patiently', 1), ('chose', 1), ('crawled', 1), ('taller,', 1), ('mushroom,”', 1), ('thoughtfully', 1), ('which?”', 1), ('right-hand', 1), ('foot!', 1), ('lost,', 1), ('mouth;', 1), ('swallow', 1), ('head’s', 1), ('alarm', 1), ('rise', 1), ('stuff', 1), ('follow,', 1), ('serpent.', 1), ('graceful', 1), ('tops', 1), ('hiss', 1), ('hurry:', 1), ('flown', 1), ('wings.', 1), ('alone!”', 1), ('“serpent,', 1), ('sob,', 1), ('roots', 1), ('serpents!', 1), ('puzzled,', 1), ('weeks!”', 1), ('sorry', 1), ('annoyed,”', 1), ('highest', 1), ('wood,”', 1), ('raising', 1), ('wriggling', 1), ('a—i’m', 1), ('a—”', 1), ('something!”', 1), ('“i—i’m', 1), ('girl,”', 1), ('serpent;', 1), ('egg!”', 1), ('truthful', 1), ('eggs', 1), ('hastily;', 1), ('crouched', 1), ('branches,', 1), ('now!', 1), ('are!', 1), ('be,', 1), ('another!', 1), ('lives', 1), ('“it’ll', 1), ('frighten', 1), ('livery', 1), ('wood—(she', 1), ('livery:', 1), ('otherwise,', 1), ('judging', 1), ('knuckles.', 1), ('frog;', 1), ('footmen,', 1), ('noticed,', 1), ('crept', 1), ('producing', 1), ('himself,', 1), ('“from', 1), ('laughed', 1), ('stupidly', 1), ('reasons.', 1), ('are;', 1), ('within—a', 1), ('sneezing,', 1), ('pieces.', 1), ('sense', 1), ('us.', 1), ('_inside_,', 1), ('uncivil.', 1), ('questions.—how', 1), ('skimming', 1), ('footman’s', 1), ('grazed', 1), ('“—or', 1), ('happened.', 1), ('louder', 1), ('“_are_', 1), ('footman.', 1), ('doubt:', 1), ('argue.', 1), ('drive', 1), ('variations.', 1), ('whistling.', 1), ('desperately:', 1), ('in.', 1), ('smoke', 1), ('baby;', 1), ('sneezed', 1), ('occasionally;', 1), ('alternately', 1), ('sneeze,', 1), ('hearth', 1), ('grinning', 1), ('manners', 1), ('why.', 1), ('pig!”', 1), ('violence', 1), ('jumped;', 1), ('grinned;', 1), ('grin.”', 1), ('can,”', 1), ('fire-irons', 1), ('plates,', 1), ('already,', 1), ('agony', 1), ('nose!”', 1), ('unusually', 1), ('flew', 1), ('minded', 1), ('faster', 1), ('does.”', 1), ('night!', 1), ('twenty-four', 1), ('axis—”', 1), ('“talking', 1), ('axes,”', 1), ('“chop', 1), ('hint;', 1), ('hours,', 1), ('_think_;', 1), ('twelve?', 1), ('bother', 1), ('lullaby', 1), ('line:', 1), ('roughly', 1), ('(in', 1), ('enjoy', 1), ('like!”', 1), ('flinging', 1), ('room.', 1), ('frying-pan', 1), ('difficulty,', 1), ('queer-shaped', 1), ('snorting', 1), ('steam-engine', 1), ('doubling', 1), ('knot,', 1), ('undoing', 1), ('two:', 1), ('behind?”', 1), ('reply', 1), ('grunt,”', 1), ('doubt', 1), ('turn-up', 1), ('extremely', 1), ('seriously,', 1), ('you.', 1), ('which),', 1), ('absurd', 1), ('ugly', 1), ('handsome', 1), ('think.”', 1), ('knew,', 1), ('pigs,', 1), ('bough', 1), ('yards', 1), ('thought:', 1), ('claws', 1), ('teeth,', 1), ('respect.', 1), ('“cheshire', 1), ('name:', 1), ('wider.', 1), ('where—”', 1), ('_somewhere_,”', 1), ('enough.”', 1), ('denied,', 1), ('paw', 1), ('“we’re', 1), ('dog’s', 1), ('angry,', 1), ('wag', 1), ('therefore', 1), ('invited', 1), ('been,', 1), ('“by-the-bye,', 1), ('hatters', 1), ('mad—at', 1), ('march.”', 1), ('branch', 1), ('fig?”', 1), ('vanishing', 1), ('cat;', 1), ('ending', 1), ('gone.', 1), ('grin,”', 1), ('hare:', 1), ('chimneys', 1), ('thatched', 1), ('fur.', 1), ('corner', 1), ('room!', 1), ('_plenty_', 1), ('arm-chair', 1), ('invited,”', 1), ('table,”', 1), ('speech.', 1), ('wide', 1), ('_said_', 1), ('writing-desk?”', 1), ('fun', 1), ('riddles.—i', 1), ('least—at', 1), ('say—that’s', 1), ('bit!”', 1), ('eat’', 1), ('breathe', 1), ('sleep’', 1), ('breathe’!”', 1), ('ravens', 1), ('break', 1), ('fourth.”', 1), ('works!”', 1), ('grumbled:', 1), ('bread-knife.”', 1), ('tea,', 1), ('butter,', 1), ('watch!”', 1), ('readily:', 1), ('stays', 1), ('_mine_,”', 1), ('hatter’s', 1), ('english.', 1), ('poured', 1), ('course;', 1), ('slightest', 1), ('“nor', 1), ('i,”', 1), ('wearily.', 1), ('waste', 1), ('answers.”', 1), ('don’t!”', 1), ('time!”', 1), ('beating.', 1), ('lessons:', 1), ('whisper', 1), ('hint', 1), ('clock', 1), ('dinner!”', 1), ('thoughtfully:', 1), ('then—i', 1), ('perhaps,”', 1), ('manage?”', 1), ('march—just', 1), ('mad,', 1), ('(pointing', 1), ('spoon', 1), ('hare,)', 1), ('concert', 1), ('bat!', 1), ('at!’', 1), ('“_twinkle,', 1), ('twinkle_—”', 1), ('stop.', 1), ('bawled', 1), ('savage!”', 1), ('tea-things', 1), ('ask.', 1), ('subject,”', 1), ('yawning.', 1), ('this.', 1), ('proposal.', 1), ('shall!”', 1), ('dormouse!”', 1), ('feeble', 1), ('voice:', 1), ('fellows', 1), ('sisters,”', 1), ('elsie,', 1), ('drinking.', 1), ('treacle,”', 1), ('earnestly.', 1), ('_less_,”', 1), ('_more_', 1), ('“who’s', 1), ('helped', 1)]\n"
     ]
    }
   ],
   "source": [
    "# The solution for Part 7 goes here.\n",
    "\n",
    "sorted_word_count_list = rdd4.sortBy(lambda x: x[1], ascending=False).collect()\n",
    "print(sorted_word_count_list)"
   ]
  }
 ],
 "metadata": {
  "application/vnd.databricks.v1+notebook": {
   "dashboards": [],
   "language": "python",
   "notebookMetadata": {
    "pythonIndentUnit": 4
   },
   "notebookName": "ds610_week_02_hw_starter_code",
   "widgets": {}
  },
  "kernelspec": {
   "display_name": "Python 3 (ipykernel)",
   "language": "python",
   "name": "python3"
  },
  "language_info": {
   "codemirror_mode": {
    "name": "ipython",
    "version": 3
   },
   "file_extension": ".py",
   "mimetype": "text/x-python",
   "name": "python",
   "nbconvert_exporter": "python",
   "pygments_lexer": "ipython3",
   "version": "3.9.15"
  }
 },
 "nbformat": 4,
 "nbformat_minor": 0
}
